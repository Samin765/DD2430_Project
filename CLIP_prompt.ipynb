{
  "cells": [
    {
      "cell_type": "markdown",
      "metadata": {
        "colab_type": "text",
        "id": "view-in-github"
      },
      "source": [
        "<a href=\"https://colab.research.google.com/github/Samin765/DD2430_Project/blob/main/CLIP_prompt.ipynb\" target=\"_parent\"><img src=\"https://colab.research.google.com/assets/colab-badge.svg\" alt=\"Open In Colab\"/></a>"
      ]
    },
    {
      "cell_type": "markdown",
      "metadata": {
        "id": "2INOXSFL9vte"
      },
      "source": [
        "# Constants\n",
        "Change these to fit your needs"
      ]
    },
    {
      "cell_type": "code",
      "execution_count": 12,
      "metadata": {
        "id": "bSDTu4h97TFF"
      },
      "outputs": [],
      "source": [
        "# Are you developing locally or on google colab?\n",
        "COLAB = False\n",
        "\n",
        "# path kaggle will download to\n",
        "HM_DATA_PATH = \"/content/drive/MyDrive/dd2430/data/\" if COLAB else \"./data/\"\n",
        "\n",
        "# path tourch.save and .load will use\n",
        "PTH_SAVE_PATH = \"/content/drive/MyDrive/dd2430/pth/\" if COLAB else \"./pth/\"\n",
        "\n",
        "# False if you have already downloaded once\n",
        "DOWNLOAD_FROM_KAGGLE = False\n",
        "\n",
        "# False if you have already created and saved a .pth file to PTH_SAVE_PATH\n",
        "CREATE_NEW_DATASET = False \n",
        "\n",
        "# train, test, val set size. Should sum to 1\n",
        "SET_SIZES = {\n",
        "    \"train\": 0.8,\n",
        "    \"test\": 0.1,\n",
        "    \"val\": 0.1,\n",
        "}\n",
        "\n",
        "# samples per class in uniform dataset\n",
        "N_SAMPLES = 10"
      ]
    },
    {
      "cell_type": "markdown",
      "metadata": {
        "id": "qpJXUgcT97sz"
      },
      "source": [
        "# Imports"
      ]
    },
    {
      "cell_type": "code",
      "execution_count": 13,
      "metadata": {
        "id": "zPOBAjDlInvv"
      },
      "outputs": [],
      "source": [
        "import os\n",
        "import random\n",
        "\n",
        "from tqdm import tqdm\n",
        "if COLAB:\n",
        "    from google.colab import files, drive\n",
        "import gdown\n",
        "\n",
        "import matplotlib.pyplot as plt\n",
        "\n",
        "import torch\n",
        "import torch.nn as nn\n",
        "from torch.utils.data import DataLoader\n",
        "\n",
        "import transformers"
      ]
    },
    {
      "cell_type": "code",
      "execution_count": 14,
      "metadata": {
        "colab": {
          "base_uri": "https://localhost:8080/"
        },
        "id": "Ou5QvXmt3_Kr",
        "outputId": "a1292a65-1122-465c-f9c9-b891632ca9b0"
      },
      "outputs": [
        {
          "name": "stdout",
          "output_type": "stream",
          "text": [
            "Using device:  mps\n"
          ]
        }
      ],
      "source": [
        "device = 'cpu'\n",
        "if torch.cuda.is_available():\n",
        "    device = 'cuda'\n",
        "if torch.backends.mps.is_available(): # For apple silicon \n",
        "    device = 'mps'\n",
        "\n",
        "print(\"Using device: \", device)"
      ]
    },
    {
      "cell_type": "markdown",
      "metadata": {
        "id": "fJAyjnhi-Azx"
      },
      "source": [
        "# Download data"
      ]
    },
    {
      "cell_type": "code",
      "execution_count": 15,
      "metadata": {
        "colab": {
          "base_uri": "https://localhost:8080/"
        },
        "id": "ePv7xBdq3bPi",
        "outputId": "2cc59e39-5e00-4b68-b5d2-d72dc037d227"
      },
      "outputs": [],
      "source": [
        "if COLAB:\n",
        "    drive.mount('/content/drive')"
      ]
    },
    {
      "cell_type": "code",
      "execution_count": 16,
      "metadata": {
        "id": "MbDLguV7cAUV"
      },
      "outputs": [],
      "source": [
        "if DOWNLOAD_FROM_KAGGLE:\n",
        "    !pip install kaggle\n",
        "    files.upload()\n",
        "\n",
        "    os.makedirs('/root/.kaggle', exist_ok=True)\n",
        "    !cp kaggle.json /root/.kaggle/\n",
        "    !chmod 600 /root/.kaggle/kaggle.json\n",
        "\n",
        "    %cd HM_DATA_PATH\n",
        "\n",
        "    !kaggle competitions download -c h-and-m-personalized-fashion-recommendations\n",
        "    !unzip -q h-and-m-personalized-fashion-recommendations.zip"
      ]
    },
    {
      "cell_type": "markdown",
      "metadata": {
        "id": "VdQe6TDNGX4K"
      },
      "source": [
        "#Dataset"
      ]
    },
    {
      "cell_type": "code",
      "execution_count": 17,
      "metadata": {},
      "outputs": [],
      "source": [
        "from datasets import HMDataset2, UniformHMDataset"
      ]
    },
    {
      "cell_type": "markdown",
      "metadata": {
        "id": "3UAgJdAxAOLv"
      },
      "source": [
        "## Create new dataset\n",
        "This will create a new dataset and save it as a .pth to google drive."
      ]
    },
    {
      "cell_type": "code",
      "execution_count": 18,
      "metadata": {
        "colab": {
          "base_uri": "https://localhost:8080/"
        },
        "id": "XOPl3OzJMadt",
        "outputId": "f7c7a6e8-659f-490c-8f31-813e2e992959"
      },
      "outputs": [],
      "source": [
        "if CREATE_NEW_DATASET:\n",
        "    dataset = HMDataset2(\n",
        "        articles_csv = HM_DATA_PATH + 'articles.csv',\n",
        "        image_dir = HM_DATA_PATH + 'images',\n",
        "        main_class = 'garment_group_name',\n",
        "        model = transformers.CLIPModel.from_pretrained(\"openai/clip-vit-base-patch32\").to(device),\n",
        "        processor = transformers.CLIPProcessor.from_pretrained(\"openai/clip-vit-base-patch32\")\n",
        "    )\n",
        "\n",
        "    # data per class\n",
        "    n_samples = N_SAMPLES\n",
        "\n",
        "    # you can also set all to n_samples then set the ones you want to 0\n",
        "    for exclude_subclass in ['Unknown', 'Special Offers', 'some other']:\n",
        "        dataset.counts[exclude_subclass]=n_samples\n",
        "\n",
        "    # Create uniform dataset\n",
        "    image_emb, labels, images = dataset.get_n_of_each(n_samples)\n",
        "\n",
        "    data_to_save = {\n",
        "        'image_embedding': image_emb,\n",
        "        'class_text': labels,\n",
        "        'images': images,\n",
        "    }\n",
        "\n",
        "    os.makedirs(PTH_SAVE_PATH, exist_ok=True)\n",
        "    torch.save(data_to_save, f'{PTH_SAVE_PATH}HM_data_{n_samples}.pth')"
      ]
    },
    {
      "cell_type": "markdown",
      "metadata": {
        "id": "0qGqNs0B_Ek-"
      },
      "source": [
        "# Load data from Google Drive\n",
        "If you already have the HM data and .pth saved in google drive, this is where the actual code/program begins.\n",
        "\n",
        "Remember to change the constants at the top so you don't download and/or create a new dataset next time."
      ]
    },
    {
      "cell_type": "code",
      "execution_count": 19,
      "metadata": {
        "colab": {
          "base_uri": "https://localhost:8080/"
        },
        "id": "P3U1Tr3yMHGb",
        "outputId": "1804a81e-4cab-4e56-d940-5a291f75443a"
      },
      "outputs": [
        {
          "name": "stderr",
          "output_type": "stream",
          "text": [
            "/var/folders/h9/8cph72z15mjbyx6lk2517c_m0000gn/T/ipykernel_23768/891266091.py:4: FutureWarning: You are using `torch.load` with `weights_only=False` (the current default value), which uses the default pickle module implicitly. It is possible to construct malicious pickle data which will execute arbitrary code during unpickling (See https://github.com/pytorch/pytorch/blob/main/SECURITY.md#untrusted-models for more details). In a future release, the default value for `weights_only` will be flipped to `True`. This limits the functions that could be executed during unpickling. Arbitrary objects will no longer be allowed to be loaded via this mode unless they are explicitly allowlisted by the user via `torch.serialization.add_safe_globals`. We recommend you start setting `weights_only=True` for any use case where you don't have full control of the loaded file. Please open an issue on GitHub for any issues related to this experimental feature.\n",
            "  loaded_data = torch.load(f'{PTH_SAVE_PATH}{file_to_load}')\n"
          ]
        }
      ],
      "source": [
        "n_samples = N_SAMPLES\n",
        "file_to_load = f\"HM_data_{n_samples}.pth\"\n",
        "\n",
        "loaded_data = torch.load(f'{PTH_SAVE_PATH}{file_to_load}')\n",
        "\n",
        "image_emb = loaded_data['image_embedding']\n",
        "labels = loaded_data['class_text']\n",
        "images = loaded_data['images']\n",
        "\n",
        "dataset = UniformHMDataset(image_emb, labels , images)"
      ]
    },
    {
      "cell_type": "markdown",
      "metadata": {
        "id": "5H_a8067FDEr"
      },
      "source": [
        "# Split data into train, test, and val set\n",
        "Use `dataset_train`, `dataset_test`, and `dataset_val`."
      ]
    },
    {
      "cell_type": "code",
      "execution_count": 20,
      "metadata": {
        "colab": {
          "base_uri": "https://localhost:8080/"
        },
        "id": "HQQK-U0FFCoG",
        "outputId": "cc5f2958-f979-4f74-cc85-6604445ce78f"
      },
      "outputs": [
        {
          "name": "stdout",
          "output_type": "stream",
          "text": [
            "190 152 19 19\n",
            "('Swimwear', 'Shoes', 'Blouses', 'Woven/Jersey/Knitted mix Baby', 'Blouses', 'Blouses', 'Jersey Basic', 'Knitwear', 'Jersey Fancy', 'Accessories', 'Under-, Nightwear', 'Trousers Denim', 'Shorts', 'Woven/Jersey/Knitted mix Baby', 'Dresses Ladies', 'Outdoor', 'Jersey Fancy', 'Knitwear', 'Socks and Tights', 'Under-, Nightwear', 'Knitwear', 'Blouses', 'Trousers Denim', 'Accessories', 'Socks and Tights', 'Outdoor', 'Blouses', 'Swimwear', 'Dressed', 'Shoes', 'Dressed', 'Accessories', 'Shoes', 'Swimwear', 'Shirts', 'Shorts', 'Shorts', 'Skirts', 'Shorts', 'Trousers Denim', 'Blouses', 'Knitwear', 'Accessories', 'Dresses/Skirts girls', 'Outdoor', 'Jersey Fancy', 'Dresses/Skirts girls', 'Dresses Ladies', 'Socks and Tights', 'Dresses/Skirts girls', 'Jersey Fancy', 'Shirts', 'Socks and Tights', 'Under-, Nightwear', 'Knitwear', 'Trousers', 'Accessories', 'Socks and Tights', 'Under-, Nightwear', 'Dresses Ladies', 'Shoes', 'Knitwear', 'Accessories', 'Knitwear', 'Outdoor', 'Accessories', 'Woven/Jersey/Knitted mix Baby', 'Skirts', 'Trousers Denim', 'Under-, Nightwear', 'Dresses Ladies', 'Skirts', 'Dressed', 'Trousers', 'Jersey Basic', 'Blouses', 'Outdoor', 'Swimwear', 'Trousers', 'Jersey Fancy', 'Shorts', 'Swimwear', 'Woven/Jersey/Knitted mix Baby', 'Dressed', 'Shoes', 'Socks and Tights', 'Trousers', 'Jersey Fancy', 'Trousers', 'Jersey Basic', 'Dresses Ladies', 'Shoes', 'Woven/Jersey/Knitted mix Baby', 'Dresses Ladies', 'Shirts', 'Shirts', 'Socks and Tights', 'Under-, Nightwear', 'Trousers', 'Dressed', 'Dressed', 'Swimwear', 'Dresses/Skirts girls', 'Shorts', 'Blouses', 'Trousers', 'Outdoor', 'Under-, Nightwear', 'Trousers Denim', 'Shirts', 'Trousers Denim', 'Shirts', 'Dresses/Skirts girls', 'Socks and Tights', 'Jersey Fancy', 'Dressed', 'Dressed', 'Woven/Jersey/Knitted mix Baby', 'Shirts', 'Skirts', 'Shoes', 'Trousers Denim', 'Accessories', 'Trousers Denim', 'Jersey Basic', 'Dresses/Skirts girls', 'Dresses/Skirts girls', 'Shorts', 'Jersey Basic', 'Skirts', 'Dresses/Skirts girls', 'Shorts', 'Knitwear', 'Outdoor', 'Dresses Ladies', 'Outdoor', 'Jersey Basic', 'Jersey Basic', 'Dresses Ladies', 'Swimwear', 'Skirts', 'Skirts', 'Woven/Jersey/Knitted mix Baby', 'Skirts', 'Woven/Jersey/Knitted mix Baby', 'Swimwear', 'Trousers', 'Shirts', 'Shoes', 'Jersey Basic', 'Jersey Fancy', 'Under-, Nightwear')\n"
          ]
        }
      ],
      "source": [
        "# dividing the data in equal parts to the three sets\n",
        "combined = sorted(zip(labels, image_emb, images), key=lambda x: x[0])\n",
        "labels, image_emb, images = zip(*combined)\n",
        "\n",
        "train_labels, train_image_emb, train_images = [], [], []\n",
        "test_labels, test_image_emb, test_images = [], [], []\n",
        "val_labels, val_image_emb, val_images = [], [], []\n",
        "\n",
        "for i in range(0, len(combined) - 1, n_samples):\n",
        "    labels_sub = labels[i : i + n_samples]\n",
        "    image_emb_sub = image_emb[i : i + n_samples]\n",
        "    images_sub = images[i : i + n_samples]\n",
        "\n",
        "    s = lambda t: int(float(len(labels_sub)) * SET_SIZES[t])\n",
        "\n",
        "    train_labels.extend(labels_sub[:s(\"train\")])\n",
        "    train_image_emb.extend(image_emb_sub[:s(\"train\")])\n",
        "    train_images.extend(images_sub[:s(\"train\")])\n",
        "\n",
        "    test_labels.extend(labels_sub[s(\"train\"):s(\"train\") + s(\"test\")])\n",
        "    test_image_emb.extend(image_emb_sub[s(\"train\"):s(\"train\") + s(\"test\")])\n",
        "    test_images.extend(images_sub[s(\"train\"):s(\"train\") + s(\"test\")])\n",
        "\n",
        "    val_labels.extend(labels_sub[s(\"train\") + s(\"test\"):])\n",
        "    val_image_emb.extend(image_emb_sub[s(\"train\") + s(\"test\"):])\n",
        "    val_images.extend(images_sub[s(\"train\") + s(\"test\"):])\n",
        "\n",
        "# shuffle the data in each set\n",
        "def shuffle_set(labels, image_emb, images):\n",
        "    combined = list(zip(labels, image_emb, images))\n",
        "    random.shuffle(combined)\n",
        "    return zip(*combined)\n",
        "\n",
        "train_labels, train_image_emb, train_images = shuffle_set(train_labels, train_image_emb, train_images)\n",
        "test_labels, test_image_emb, test_images = shuffle_set(test_labels, test_image_emb, test_images)\n",
        "val_labels, val_image_emb, val_images = shuffle_set(val_labels, val_image_emb, val_images)\n",
        "\n",
        "# create the datasets\n",
        "dataset_train = UniformHMDataset(train_image_emb, train_labels, train_images)\n",
        "dataset_test = UniformHMDataset(test_image_emb, test_labels, test_images)\n",
        "dataset_val = UniformHMDataset(val_image_emb, val_labels, val_images)\n",
        "\n",
        "# checking\n",
        "print(len(labels), len(dataset_train.labels), len(dataset_test.labels), len(dataset_val.labels))\n",
        "print(dataset_train.labels)"
      ]
    },
    {
      "cell_type": "markdown",
      "metadata": {
        "id": "6xduBJBBGS_b"
      },
      "source": [
        "#Coding"
      ]
    },
    {
      "cell_type": "markdown",
      "metadata": {
        "id": "6fClfPP_3FRt"
      },
      "source": [
        "# Evaluate"
      ]
    },
    {
      "cell_type": "code",
      "execution_count": 21,
      "metadata": {
        "colab": {
          "base_uri": "https://localhost:8080/"
        },
        "id": "t5XtPmt8Po07",
        "outputId": "39ff661e-8632-4e6c-8589-cec7bb321988"
      },
      "outputs": [
        {
          "name": "stderr",
          "output_type": "stream",
          "text": [
            "/opt/homebrew/Caskroom/miniconda/base/envs/ds-proj/lib/python3.12/site-packages/transformers/tokenization_utils_base.py:1617: FutureWarning: `clean_up_tokenization_spaces` was not set. It will be set to `True` by default. This behavior will be deprecated in transformers v4.45, and will be then set to `False` by default. For more details check this issue: https://github.com/huggingface/transformers/issues/31884\n",
            "  warnings.warn(\n",
            "/opt/homebrew/Caskroom/miniconda/base/envs/ds-proj/lib/python3.12/site-packages/transformers/models/clip/processing_clip.py:149: FutureWarning: `feature_extractor` is deprecated and will be removed in v5. Use `image_processor` instead.\n",
            "  warnings.warn(\n"
          ]
        }
      ],
      "source": [
        "model = transformers.CLIPModel.from_pretrained(\"openai/clip-vit-base-patch32\").to(device)\n",
        "processor = transformers.CLIPProcessor.from_pretrained(\"openai/clip-vit-base-patch32\")\n",
        "processor.feature_extractor.do_rescale = False # make sure image values: False=> [0-1] and True=> [0,255]"
      ]
    },
    {
      "cell_type": "code",
      "execution_count": 22,
      "metadata": {
        "id": "kYHe1mXGSQ65"
      },
      "outputs": [],
      "source": [
        "num_soft_prompts = 3\n",
        "soft_prompts = nn.Parameter(torch.zeros(num_soft_prompts, model.text_projection.in_features), requires_grad=True)\n",
        "#randn or zeros\n",
        "optimizer = torch.optim.Adam([soft_prompts], lr=1e-3) # note that we here specify soft_prompts to tune\n",
        "\n",
        "criterion = torch.nn.CrossEntropyLoss()\n",
        "dataloader = DataLoader(dataset, batch_size=40, shuffle=False) # do not shuffle for eval"
      ]
    },
    {
      "cell_type": "code",
      "execution_count": 23,
      "metadata": {},
      "outputs": [],
      "source": [
        "# functions for clip text and image embeddings, forward pass etc\n",
        "# remember to import this again if you change something\n",
        "import model_functions"
      ]
    },
    {
      "cell_type": "code",
      "execution_count": 24,
      "metadata": {},
      "outputs": [],
      "source": [
        "# varius function that doesn't fit into model_functions or datasets\n",
        "# for example displaying images \n",
        "import utils"
      ]
    },
    {
      "cell_type": "markdown",
      "metadata": {
        "id": "x7saJriyUo_J"
      },
      "source": [
        "**Baseline model and untuned softprompt**\n",
        "\n",
        "\n",
        "obs,compare so that the modified transformer gets same result if num_soft = 0 yes!"
      ]
    },
    {
      "cell_type": "code",
      "execution_count": 25,
      "metadata": {
        "colab": {
          "base_uri": "https://localhost:8080/",
          "height": 374
        },
        "id": "4dNiZwM6PpuL",
        "outputId": "d7c4a276-5b35-4508-ce0a-92419ae3417b"
      },
      "outputs": [
        {
          "name": "stderr",
          "output_type": "stream",
          "text": [
            "  0%|          | 0/5 [00:00<?, ?it/s]"
          ]
        },
        {
          "data": {
            "image/png": "[encoded data removed]",
            "text/plain": [
              "<Figure size 1000x1000 with 1 Axes>"
            ]
          },
          "metadata": {},
          "output_type": "display_data"
        },
        {
          "name": "stderr",
          "output_type": "stream",
          "text": [
            "100%|██████████| 5/5 [00:01<00:00,  4.69it/s]"
          ]
        },
        {
          "name": "stdout",
          "output_type": "stream",
          "text": [
            "[13, 13, 13, 1, 1, 1, 17, 17, 17, 17, 17, 13, 13, 1, 1, 13, 13, 13, 13, 13, 7, 7, 7, 7, 17, 4, 4, 4, 4, 4, 4, 1, 1, 17, 7, 7, 7, 7, 7, 7, 4, 4, 17, 17, 17, 1, 1, 1, 15, 0, 0, 0, 0, 0, 0, 0, 0, 4, 4, 11, 18, 18, 18, 18, 18, 18, 18, 18, 18, 18, 9, 8, 8, 8, 8, 8, 11, 11, 3, 3, 3, 3, 3, 9, 3, 3, 3, 3, 3, 10, 10, 10, 10, 10, 10, 9, 9, 9, 9, 9, 9, 9, 9, 16, 2, 2, 2, 2, 2, 2, 2, 11, 11, 11, 11, 0, 0, 8, 8, 8, 8, 8, 16, 15, 15, 15, 15, 15, 15, 16, 16, 16, 16, 15, 15, 15, 2, 2, 2, 11, 11, 11, 6, 6, 6, 6, 6, 10, 10, 10, 10, 6, 6, 6, 6, 6, 16, 16, 16, 16, 14, 14, 14, 14, 14, 14, 14, 14, 14, 5, 5, 5, 5, 5, 5, 5, 14, 12, 5, 5, 5, 12, 12, 12, 12, 12, 12, 12, 12, 12]\n",
            "tensor([13, 13, 13,  1,  1,  1,  3, 17,  1,  3,  1,  5,  5,  5, 15, 13,  3,  3,\n",
            "        15,  3,  3,  3,  3,  3,  3,  4,  4,  4,  4,  4,  4,  1,  1, 15,  1,  5,\n",
            "        13,  5,  5,  5,  4,  4,  1, 12,  9,  1,  1,  1, 15,  5, 13, 13, 13,  5,\n",
            "         5, 13,  5,  4,  4, 11, 18, 18,  1, 18,  1,  1, 18, 18,  1, 18,  1,  8,\n",
            "         8,  5,  5,  8, 11, 11,  3,  3,  3,  3,  3,  5, 15,  3, 15,  3,  3,  3,\n",
            "         7, 13,  7,  7,  7,  5, 13, 13,  5,  9,  9,  5,  1, 15, 15, 15, 15,  3,\n",
            "        15, 15, 15, 11, 15, 11, 11,  1, 13,  1,  8,  8, 13,  8, 16,  1,  1,  1,\n",
            "         1,  1,  1, 16, 15, 16, 15, 15, 15, 15, 15, 15,  3, 11, 11, 11,  3,  6,\n",
            "         6,  6,  6,  1,  5,  1,  1,  6,  6,  6,  6,  2, 15, 16,  3, 16,  5,  5,\n",
            "         1,  2,  1,  8,  1,  2,  2, 15, 15, 15, 15, 15, 15, 15,  1,  1,  1, 11,\n",
            "         3,  1,  5,  5,  5,  1,  1,  2,  5,  1])\n",
            "\n",
            " Accuracy baseline 37.3684196472168 %\n",
            "Accuracy Soft prompt untuned 37.3684196472168 %\n"
          ]
        },
        {
          "name": "stderr",
          "output_type": "stream",
          "text": [
            "\n"
          ]
        }
      ],
      "source": [
        "show_image = True\n",
        "all_predictions_baseline = []\n",
        "all_predictions_soft_untuned = []\n",
        "all_labels= []\n",
        "with torch.no_grad():\n",
        "    for batch_nr, (image_embeds, labels, images) in enumerate(tqdm(dataloader)):\n",
        "        text = [' '+i for i in dataset.classes] # for prediction\n",
        "        #text = ['An image of a '+i for i in labels] # for training\n",
        "        #image_embeds, _ = get_image_emb(model, processor, return_normal(images, processor, 0, False)) #use or not\n",
        "        # baseline\n",
        "        text_embeds = model_functions.get_text_emb(model, processor, text)\n",
        "        logits_per_image1, loss = model_functions.apply_clip(text_embeds, image_embeds, model)\n",
        "        probs1 = logits_per_image1.softmax(dim=-1).cpu().numpy()\n",
        "        # softprompts\n",
        "\n",
        "        text_embeds = model_functions.get_text_emb_soft(model, processor, text, soft_prompts)\n",
        "\n",
        "        logits_per_image2, loss = model_functions.apply_clip(text_embeds, image_embeds, model)\n",
        "        probs2 = logits_per_image2.softmax(dim=-1).cpu().numpy()\n",
        "\n",
        "        if show_image and batch_nr%40==0:\n",
        "            images = utils.return_normal(images, processor, 4, True)\n",
        "            #print(dataset.classes)\n",
        "            #print(probs1.round(decimals=3))\n",
        "            #print('Base, then soft')\n",
        "            #print(probs2.round(decimals=3))\n",
        "\n",
        "        predicted_class_base = logits_per_image1.argmax(dim=-1)\n",
        "        predicted_class_soft_untuned = logits_per_image2.argmax(dim=-1)\n",
        "\n",
        "        all_predictions_baseline.append(predicted_class_base)\n",
        "        all_predictions_soft_untuned.append(predicted_class_soft_untuned)\n",
        "        for lab in labels:\n",
        "            all_labels.append(dataset.class_to_id[lab])\n",
        "\n",
        "\n",
        "all_predictions_baseline=torch.cat(all_predictions_baseline).cpu()\n",
        "all_predictions_soft_untuned=torch.cat(all_predictions_soft_untuned).cpu()\n",
        "\n",
        "print(all_labels)\n",
        "print(all_predictions_baseline)\n",
        "\n",
        "correct_base = all_predictions_baseline==torch.tensor(all_labels).cpu()\n",
        "correct_soft_unt = all_predictions_soft_untuned==torch.tensor(all_labels).cpu()\n",
        "print(f'\\n Accuracy baseline {100*correct_base.sum()/correct_base.shape[0]} %')\n",
        "print(f'Accuracy Soft prompt untuned {100*correct_soft_unt.sum()/correct_soft_unt.shape[0]} %')"
      ]
    },
    {
      "cell_type": "markdown",
      "metadata": {
        "id": "NJThFnDiVAJV"
      },
      "source": [
        "**Finetuning**\n",
        "\n",
        "Performance decreases if we add untuned soft prompts, now we finetune"
      ]
    },
    {
      "cell_type": "code",
      "execution_count": 26,
      "metadata": {
        "id": "4ZZDbNteU_VT"
      },
      "outputs": [
        {
          "name": "stderr",
          "output_type": "stream",
          "text": [
            "  4%|▍         | 17/400 [00:18<06:46,  1.06s/it]"
          ]
        }
      ],
      "source": [
        "show_image = True\n",
        "#print(model)#https://github.com/search?q=repo%3Ahuggingface%2Ftransformers%20CLIPModel&type=code\n",
        "model.train()\n",
        "loss_list = []\n",
        "batch_size = 40\n",
        "epochs = 400\n",
        "dataloader = DataLoader(dataset, batch_size=batch_size, shuffle=True)\n",
        "for epoch in tqdm(range(epochs)):\n",
        "    running_loss = 0.0\n",
        "    for batch_nr, (image_embeds, labels, images) in enumerate(dataloader):\n",
        "        optimizer.zero_grad()\n",
        "        images.to(model.device)\n",
        "        #text = ['An image of a '+i for i in dataset.classes] # for prediction, can use what we want\n",
        "        text = [''+i for i in labels] # for training, must use 1-1 map\n",
        "        #image_embeds, _ = get_image_emb(model, processor, return_normal(images, processor, 0, False)) #SLOW\n",
        "        text_embeds = model_functions.get_text_emb_soft(model, processor, text, soft_prompts)\n",
        "        logits_per_image, loss = model_functions.apply_clip(text_embeds, image_embeds, model, train=True)\n",
        "        loss.backward()\n",
        "        optimizer.step()\n",
        "        #print(soft_prompts.grad) to see that back prop works, is none otherwise\n",
        "        running_loss +=loss.item()\n",
        "    loss_list.append(running_loss)\n",
        "\n",
        "torch.save(soft_prompts, 'soft_prompts.pth')"
      ]
    },
    {
      "cell_type": "code",
      "execution_count": null,
      "metadata": {
        "id": "hA1lU0jfCadS"
      },
      "outputs": [],
      "source": [
        "plt.figure(figsize=(10, 6))\n",
        "plt.plot(list(range(1, epochs+1)), loss_list, label='Training Loss')\n",
        "# Adding labels and title\n",
        "plt.title('Training Loss Over Datapoints')\n",
        "plt.xlabel('Epochs')\n",
        "plt.ylabel('Loss')\n",
        "plt.legend()\n",
        "plt.grid(True)\n",
        "plt.show()"
      ]
    },
    {
      "cell_type": "markdown",
      "metadata": {
        "id": "PfBohkuM3f0H"
      },
      "source": [
        "**Evaluate performance**"
      ]
    },
    {
      "cell_type": "code",
      "execution_count": null,
      "metadata": {
        "id": "qBQYLnTuGto_"
      },
      "outputs": [],
      "source": [
        "all_labels= []\n",
        "all_predictions_soft = []\n",
        "with torch.no_grad():\n",
        "    for batch_nr, (image_embeds, labels, images) in enumerate(tqdm(dataloader)):\n",
        "        text = [''+i for i in dataset.classes] # for eval\n",
        "        #image_embeds, _ = get_image_emb(model, processor, return_normal(images, processor, 0, False)) #use or not\n",
        "        #text_embeds = get_text_emb_soft(model, processor, text, soft_prompts)\n",
        "        text_embeds = model_functions.get_text_emb_soft(model, processor, text, soft_prompts)\n",
        "        logits_per_image2, loss = model_functions.apply_clip(text_embeds, image_embeds, model)\n",
        "        predicted_class_soft = logits_per_image2.argmax(dim=-1)\n",
        "        all_predictions_soft.append(predicted_class_soft)\n",
        "        for lab in labels:\n",
        "            all_labels.append(dataset.class_to_id[lab])\n",
        "all_predictions_soft=torch.cat(all_predictions_soft).cpu()\n",
        "correct_soft = all_predictions_soft==torch.tensor(all_labels).cpu()"
      ]
    },
    {
      "cell_type": "code",
      "execution_count": null,
      "metadata": {
        "id": "6HCFdhqwG6Zy"
      },
      "outputs": [],
      "source": [
        "print(f'\\nOf {max(all_labels)} classes random is {1/max(all_labels)}%')\n",
        "print(f'Accuracy baseline {100*correct_base.sum()/correct_base.shape[0]} %')\n",
        "print(f'Accuracy Soft prompt untuned {100*correct_soft_unt.sum()/correct_soft_unt.shape[0]} %')\n",
        "print(f'Accuracy Soft prompt {100*correct_soft.sum()/correct_soft.shape[0]} %')\n",
        "from sklearn.metrics import classification_report\n",
        "print(classification_report(all_predictions_soft, all_labels))\n",
        "print(dataset.class_to_id)"
      ]
    }
  ],
  "metadata": {
    "colab": {
      "include_colab_link": true,
      "provenance": []
    },
    "kernelspec": {
      "display_name": "Python 3",
      "name": "python3"
    },
    "language_info": {
      "codemirror_mode": {
        "name": "ipython",
        "version": 3
      },
      "file_extension": ".py",
      "mimetype": "text/x-python",
      "name": "python",
      "nbconvert_exporter": "python",
      "pygments_lexer": "ipython3",
      "version": "3.12.2"
    }
  },
  "nbformat": 4,
  "nbformat_minor": 0
}
