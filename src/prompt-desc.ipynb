{
 "cells": [
  {
   "cell_type": "markdown",
   "metadata": {
    "id": "2INOXSFL9vte",
    "tags": []
   },
   "source": [
    "# Setup\n",
    "## Constants"
   ]
  },
  {
   "cell_type": "code",
   "execution_count": 2,
   "metadata": {
    "tags": []
   },
   "outputs": [],
   "source": [
    "!pip install transformers -q\n",
    "!pip install torch -q\n",
    "!pip install torchvision -q"
   ]
  },
  {
   "cell_type": "code",
   "execution_count": 3,
   "metadata": {
    "id": "bSDTu4h97TFF",
    "tags": []
   },
   "outputs": [],
   "source": [
    "# False if you have already created and saved a .pth file to PTH_SAVE_PATH\n",
    "CREATE_NEW_DATASET = True\n",
    "\n",
    "# train, test, val set size. Should sum to 1\n",
    "SET_SIZES = {\n",
    "    \"train\": 0.8,\n",
    "    \"test\": 0.1,\n",
    "    \"val\": 0.1,\n",
    "}\n",
    "\n",
    "# samples per class in uniform dataset\n",
    "N_SAMPLES = 400\n",
    "\n",
    "# path to dataset (do not change)\n",
    "HM_DATA_PATH = \"../dataset/\"\n",
    "\n",
    "# path to pth saves (do not change)\n",
    "PTH_SAVE_PATH = \"../pth/\""
   ]
  },
  {
   "cell_type": "markdown",
   "metadata": {
    "id": "qpJXUgcT97sz"
   },
   "source": [
    "## Imports"
   ]
  },
  {
   "cell_type": "code",
   "execution_count": 4,
   "metadata": {
    "id": "zPOBAjDlInvv",
    "tags": []
   },
   "outputs": [
    {
     "name": "stderr",
     "output_type": "stream",
     "text": [
      "/opt/homebrew/Caskroom/miniconda/base/envs/ds-proj/lib/python3.12/site-packages/tqdm/auto.py:21: TqdmWarning: IProgress not found. Please update jupyter and ipywidgets. See https://ipywidgets.readthedocs.io/en/stable/user_install.html\n",
      "  from .autonotebook import tqdm as notebook_tqdm\n"
     ]
    },
    {
     "name": "stdout",
     "output_type": "stream",
     "text": [
      "/Users/daghjelm/Documents/kth/ds-proj/DD2430_Project/src\n"
     ]
    }
   ],
   "source": [
    "import os, sys, random, importlib, transformers, itertools, copy\n",
    "import numpy as np, torch.nn as nn, torch, seaborn as sns, matplotlib.pyplot as plt, pandas as pd\n",
    "from tqdm import tqdm\n",
    "from sklearn.metrics import classification_report, confusion_matrix\n",
    "from torch.utils.data import DataLoader\n",
    "print(os.getcwd())# Our own files\n",
    "# sys.path.append('./src/')\n",
    "import model_functions, utils, training, datasets\n",
    "def set_seed(seed):# reproducable\n",
    "    random.seed(seed)\n",
    "    np.random.seed(seed)\n",
    "    torch.manual_seed(seed)\n",
    "    if torch.cuda.is_available():\n",
    "        torch.cuda.manual_seed(seed)\n",
    "        torch.cuda.manual_seed_all(seed)\n",
    "    torch.backends.cudnn.deterministic = True\n",
    "    torch.backends.cudnn.benchmark = False\n",
    "set_seed(0)"
   ]
  },
  {
   "cell_type": "code",
   "execution_count": 5,
   "metadata": {
    "tags": []
   },
   "outputs": [],
   "source": [
    "def update():# if you change our files\n",
    "    import model_functions, utils, training, datasets\n",
    "    for lib in [model_functions, utils, training, datasets]:\n",
    "        importlib.reload(lib)# issues with not updating\n",
    "update()"
   ]
  },
  {
   "cell_type": "code",
   "execution_count": 6,
   "metadata": {
    "colab": {
     "base_uri": "https://localhost:8080/"
    },
    "id": "Ou5QvXmt3_Kr",
    "outputId": "ee73a633-1d13-47ed-86e3-640c1a03e48d",
    "tags": []
   },
   "outputs": [
    {
     "name": "stdout",
     "output_type": "stream",
     "text": [
      "Using device: mps\n"
     ]
    }
   ],
   "source": [
    "device = 'cpu'\n",
    "if torch.cuda.is_available():\n",
    "    device = 'cuda'\n",
    "elif torch.backends.mps.is_available(): # For apple silicon\n",
    "    device = 'mps'\n",
    "print(\"Using device:\", device)"
   ]
  },
  {
   "cell_type": "code",
   "execution_count": 7,
   "metadata": {
    "tags": []
   },
   "outputs": [
    {
     "name": "stderr",
     "output_type": "stream",
     "text": [
      "/opt/homebrew/Caskroom/miniconda/base/envs/ds-proj/lib/python3.12/site-packages/transformers/models/clip/processing_clip.py:149: FutureWarning: `feature_extractor` is deprecated and will be removed in v5. Use `image_processor` instead.\n",
      "  warnings.warn(\n"
     ]
    }
   ],
   "source": [
    "model = transformers.CLIPModel.from_pretrained(\"openai/clip-vit-base-patch32\").to(device)\n",
    "processor = transformers.CLIPProcessor.from_pretrained(\"openai/clip-vit-base-patch32\")\n",
    "processor.feature_extractor.do_rescale = False # make sure image values: False=> [0-1] and True=> [0,255]"
   ]
  },
  {
   "cell_type": "code",
   "execution_count": 21,
   "metadata": {},
   "outputs": [
    {
     "name": "stdout",
     "output_type": "stream",
     "text": [
      "<class 'transformers.models.clip.processing_clip.CLIPProcessor'>\n"
     ]
    }
   ],
   "source": [
    "print(type(processor))"
   ]
  },
  {
   "cell_type": "markdown",
   "metadata": {
    "id": "0qGqNs0B_Ek-",
    "tags": []
   },
   "source": [
    "### Load dataset and split"
   ]
  },
  {
   "cell_type": "markdown",
   "metadata": {
    "tags": []
   },
   "source": [
    "## Create new imbalanced dataset"
   ]
  },
  {
   "cell_type": "markdown",
   "metadata": {},
   "source": [
    "Main class for dataset"
   ]
  },
  {
   "cell_type": "code",
   "execution_count": 9,
   "metadata": {},
   "outputs": [],
   "source": [
    "main_class = 'garment_group_name'"
   ]
  },
  {
   "cell_type": "markdown",
   "metadata": {
    "tags": []
   },
   "source": [
    "### Full dataset, run once"
   ]
  },
  {
   "cell_type": "code",
   "execution_count": 10,
   "metadata": {
    "tags": []
   },
   "outputs": [
    {
     "name": "stdout",
     "output_type": "stream",
     "text": [
      "Knitwear\n",
      "105099\n"
     ]
    }
   ],
   "source": [
    "df = pd.read_csv(HM_DATA_PATH+'articles_filtered.csv')\n",
    "embs = torch.load(HM_DATA_PATH+'embedds.pth', weights_only=True) # all 100k embeddings\n",
    "labs = torch.load(HM_DATA_PATH+'labels.pth', weights_only=True).tolist() #  100k labels\n",
    "hmd = datasets.HMDatasetDuplicates(embs, np.array(labs), df)\n",
    "print(hmd.article_id2suclass(694805002, main_class))\n",
    "#print(hmd.list_article_id2suclass(labs, 'garment_group_name'))#all\n",
    "print(len(labs))\n",
    "BALANCED = False"
   ]
  },
  {
   "cell_type": "code",
   "execution_count": 22,
   "metadata": {},
   "outputs": [
    {
     "name": "stdout",
     "output_type": "stream",
     "text": [
      "<class 'transformers.models.clip.tokenization_clip_fast.CLIPTokenizerFast'>\n"
     ]
    }
   ],
   "source": [
    "print(type(processor.tokenizer))"
   ]
  },
  {
   "cell_type": "code",
   "execution_count": 13,
   "metadata": {
    "tags": []
   },
   "outputs": [
    {
     "name": "stdout",
     "output_type": "stream",
     "text": [
      "47071 Train size: 37656, Val size: 4707, Test size: 4708\n",
      "105099\n",
      "This should be empty set() set()\n",
      "The resulting sizes 84095 4707 4708\n"
     ]
    }
   ],
   "source": [
    "update()\n",
    "batch_size = 32\n",
    "set_sizes = {\"train\": 0.8, \"val\": 0.1}\n",
    "data = datasets.datasets(embs, np.array(labs), df, set_sizes, True)# takes 3 min"
   ]
  },
  {
   "cell_type": "markdown",
   "metadata": {
    "tags": []
   },
   "source": [
    "### Subsets"
   ]
  },
  {
   "cell_type": "code",
   "execution_count": null,
   "metadata": {
    "tags": []
   },
   "outputs": [
    {
     "name": "stderr",
     "output_type": "stream",
     "text": [
      "100%|██████████| 84095/84095 [00:18<00:00, 4625.80it/s]\n",
      "100%|██████████| 4707/4707 [00:01<00:00, 4209.34it/s]\n",
      "100%|██████████| 4708/4708 [00:00<00:00, 4769.04it/s]\n",
      "100%|██████████| 84095/84095 [00:09<00:00, 9303.20it/s]\n"
     ]
    },
    {
     "name": "stdout",
     "output_type": "stream",
     "text": [
      "Final class count for train: {'Shoes': 3989, 'Jersey Basic': 5000, 'Swimwear': 2301, 'Dresses Ladies': 3947, 'Blouses': 4701, 'Dressed': 772, 'Trousers': 5000, 'Under-, Nightwear': 5000, 'Shirts': 1623, 'Trousers Denim': 2532, 'Knitwear': 5000, 'Dresses/Skirts girls': 1184, 'Shorts': 1228, 'Jersey Fancy': 5000, 'Accessories': 5000, 'Outdoor': 3644, 'Skirts': 1016, 'Socks and Tights': 1798}\n"
     ]
    },
    {
     "name": "stderr",
     "output_type": "stream",
     "text": [
      "100%|██████████| 4707/4707 [00:00<00:00, 9303.44it/s]\n"
     ]
    },
    {
     "name": "stdout",
     "output_type": "stream",
     "text": [
      "Final class count for val: {'Shoes': 267, 'Jersey Basic': 187, 'Swimwear': 115, 'Dresses Ladies': 244, 'Blouses': 277, 'Dressed': 49, 'Trousers': 261, 'Under-, Nightwear': 261, 'Shirts': 73, 'Trousers Denim': 138, 'Knitwear': 348, 'Dresses/Skirts girls': 99, 'Shorts': 55, 'Jersey Fancy': 832, 'Accessories': 685, 'Outdoor': 232, 'Skirts': 51, 'Socks and Tights': 65}\n"
     ]
    },
    {
     "name": "stderr",
     "output_type": "stream",
     "text": [
      "100%|██████████| 4708/4708 [00:00<00:00, 8544.05it/s]\n"
     ]
    },
    {
     "name": "stdout",
     "output_type": "stream",
     "text": [
      "Final class count for test: {'Shoes': 277, 'Jersey Basic': 200, 'Swimwear': 101, 'Dresses Ladies': 246, 'Blouses': 301, 'Dressed': 41, 'Trousers': 306, 'Under-, Nightwear': 249, 'Shirts': 77, 'Trousers Denim': 120, 'Knitwear': 315, 'Dresses/Skirts girls': 90, 'Shorts': 54, 'Jersey Fancy': 834, 'Accessories': 647, 'Outdoor': 254, 'Skirts': 73, 'Socks and Tights': 55}\n"
     ]
    }
   ],
   "source": [
    "update()\n",
    "exclude_classes = ['Special Offers', 'Woven/Jersey/Knitted mix Baby','Unknown']\n",
    "dataloaders_imbalanced = datasets.get_dataloaders('garment_group_name', data, 5000, exclude_classes, 32)# look at Resource Utilization to see if capping"
   ]
  },
  {
   "cell_type": "code",
   "execution_count": 20,
   "metadata": {},
   "outputs": [],
   "source": [
    "dataloaders = dataloaders_imbalanced"
   ]
  },
  {
   "cell_type": "markdown",
   "metadata": {
    "id": "LeD46C1cglRO"
   },
   "source": [
    "## Add description to labels\n",
    "\n"
   ]
  },
  {
   "cell_type": "code",
   "execution_count": null,
   "metadata": {
    "colab": {
     "base_uri": "https://localhost:8080/",
     "height": 926
    },
    "id": "5ho8m0dqgvi4",
    "outputId": "4d032b93-868d-4887-9e99-27818de54f86"
   },
   "outputs": [
    {
     "name": "stderr",
     "output_type": "stream",
     "text": [
      "  0%|          | 0/133 [00:00<?, ?it/s]"
     ]
    },
    {
     "name": "stdout",
     "output_type": "stream",
     "text": [
      "texts ['An image of clothing with name: Shoes, and description: Cardigan in a soft fine knit with dropped shoulders, long sleeves, a visible seam at the back and no buttons.', 'An image of clothing with name: Jersey Basic, and description: Cardigan in a soft fine knit with dropped shoulders, long sleeves, a visible seam at the back and no buttons.', 'An image of clothing with name: Swimwear, and description: Cardigan in a soft fine knit with dropped shoulders, long sleeves, a visible seam at the back and no buttons.', 'An image of clothing with name: Dresses Ladies, and description: Cardigan in a soft fine knit with dropped shoulders, long sleeves, a visible seam at the back and no buttons.', 'An image of clothing with name: Blouses, and description: Cardigan in a soft fine knit with dropped shoulders, long sleeves, a visible seam at the back and no buttons.', 'An image of clothing with name: Dressed, and description: Cardigan in a soft fine knit with dropped shoulders, long sleeves, a visible seam at the back and no buttons.', 'An image of clothing with name: Trousers, and description: Cardigan in a soft fine knit with dropped shoulders, long sleeves, a visible seam at the back and no buttons.', 'An image of clothing with name: Under-, Nightwear, and description: Cardigan in a soft fine knit with dropped shoulders, long sleeves, a visible seam at the back and no buttons.', 'An image of clothing with name: Shirts, and description: Cardigan in a soft fine knit with dropped shoulders, long sleeves, a visible seam at the back and no buttons.', 'An image of clothing with name: Trousers Denim, and description: Cardigan in a soft fine knit with dropped shoulders, long sleeves, a visible seam at the back and no buttons.', 'An image of clothing with name: Knitwear, and description: Cardigan in a soft fine knit with dropped shoulders, long sleeves, a visible seam at the back and no buttons.', 'An image of clothing with name: Dresses/Skirts girls, and description: Cardigan in a soft fine knit with dropped shoulders, long sleeves, a visible seam at the back and no buttons.', 'An image of clothing with name: Shorts, and description: Cardigan in a soft fine knit with dropped shoulders, long sleeves, a visible seam at the back and no buttons.', 'An image of clothing with name: Jersey Fancy, and description: Cardigan in a soft fine knit with dropped shoulders, long sleeves, a visible seam at the back and no buttons.', 'An image of clothing with name: Accessories, and description: Cardigan in a soft fine knit with dropped shoulders, long sleeves, a visible seam at the back and no buttons.', 'An image of clothing with name: Outdoor, and description: Cardigan in a soft fine knit with dropped shoulders, long sleeves, a visible seam at the back and no buttons.', 'An image of clothing with name: Skirts, and description: Cardigan in a soft fine knit with dropped shoulders, long sleeves, a visible seam at the back and no buttons.', 'An image of clothing with name: Socks and Tights, and description: Cardigan in a soft fine knit with dropped shoulders, long sleeves, a visible seam at the back and no buttons.']\n"
     ]
    },
    {
     "name": "stderr",
     "output_type": "stream",
     "text": [
      "  1%|          | 1/133 [00:12<27:56, 12.70s/it]"
     ]
    },
    {
     "name": "stdout",
     "output_type": "stream",
     "text": [
      "texts ['An image of clothing with name: Shoes, and description: Small shoulder bag in cotton twill covered in plastic beads with a zip at the top, detachable metal chain shoulder strap and a zipped inner compartment. Cotton twill lining. Height 14 cm. Width 20 cm.', 'An image of clothing with name: Jersey Basic, and description: Small shoulder bag in cotton twill covered in plastic beads with a zip at the top, detachable metal chain shoulder strap and a zipped inner compartment. Cotton twill lining. Height 14 cm. Width 20 cm.', 'An image of clothing with name: Swimwear, and description: Small shoulder bag in cotton twill covered in plastic beads with a zip at the top, detachable metal chain shoulder strap and a zipped inner compartment. Cotton twill lining. Height 14 cm. Width 20 cm.', 'An image of clothing with name: Dresses Ladies, and description: Small shoulder bag in cotton twill covered in plastic beads with a zip at the top, detachable metal chain shoulder strap and a zipped inner compartment. Cotton twill lining. Height 14 cm. Width 20 cm.', 'An image of clothing with name: Blouses, and description: Small shoulder bag in cotton twill covered in plastic beads with a zip at the top, detachable metal chain shoulder strap and a zipped inner compartment. Cotton twill lining. Height 14 cm. Width 20 cm.', 'An image of clothing with name: Dressed, and description: Small shoulder bag in cotton twill covered in plastic beads with a zip at the top, detachable metal chain shoulder strap and a zipped inner compartment. Cotton twill lining. Height 14 cm. Width 20 cm.', 'An image of clothing with name: Trousers, and description: Small shoulder bag in cotton twill covered in plastic beads with a zip at the top, detachable metal chain shoulder strap and a zipped inner compartment. Cotton twill lining. Height 14 cm. Width 20 cm.', 'An image of clothing with name: Under-, Nightwear, and description: Small shoulder bag in cotton twill covered in plastic beads with a zip at the top, detachable metal chain shoulder strap and a zipped inner compartment. Cotton twill lining. Height 14 cm. Width 20 cm.', 'An image of clothing with name: Shirts, and description: Small shoulder bag in cotton twill covered in plastic beads with a zip at the top, detachable metal chain shoulder strap and a zipped inner compartment. Cotton twill lining. Height 14 cm. Width 20 cm.', 'An image of clothing with name: Trousers Denim, and description: Small shoulder bag in cotton twill covered in plastic beads with a zip at the top, detachable metal chain shoulder strap and a zipped inner compartment. Cotton twill lining. Height 14 cm. Width 20 cm.', 'An image of clothing with name: Knitwear, and description: Small shoulder bag in cotton twill covered in plastic beads with a zip at the top, detachable metal chain shoulder strap and a zipped inner compartment. Cotton twill lining. Height 14 cm. Width 20 cm.', 'An image of clothing with name: Dresses/Skirts girls, and description: Small shoulder bag in cotton twill covered in plastic beads with a zip at the top, detachable metal chain shoulder strap and a zipped inner compartment. Cotton twill lining. Height 14 cm. Width 20 cm.', 'An image of clothing with name: Shorts, and description: Small shoulder bag in cotton twill covered in plastic beads with a zip at the top, detachable metal chain shoulder strap and a zipped inner compartment. Cotton twill lining. Height 14 cm. Width 20 cm.', 'An image of clothing with name: Jersey Fancy, and description: Small shoulder bag in cotton twill covered in plastic beads with a zip at the top, detachable metal chain shoulder strap and a zipped inner compartment. Cotton twill lining. Height 14 cm. Width 20 cm.', 'An image of clothing with name: Accessories, and description: Small shoulder bag in cotton twill covered in plastic beads with a zip at the top, detachable metal chain shoulder strap and a zipped inner compartment. Cotton twill lining. Height 14 cm. Width 20 cm.', 'An image of clothing with name: Outdoor, and description: Small shoulder bag in cotton twill covered in plastic beads with a zip at the top, detachable metal chain shoulder strap and a zipped inner compartment. Cotton twill lining. Height 14 cm. Width 20 cm.', 'An image of clothing with name: Skirts, and description: Small shoulder bag in cotton twill covered in plastic beads with a zip at the top, detachable metal chain shoulder strap and a zipped inner compartment. Cotton twill lining. Height 14 cm. Width 20 cm.', 'An image of clothing with name: Socks and Tights, and description: Small shoulder bag in cotton twill covered in plastic beads with a zip at the top, detachable metal chain shoulder strap and a zipped inner compartment. Cotton twill lining. Height 14 cm. Width 20 cm.']\n"
     ]
    },
    {
     "name": "stderr",
     "output_type": "stream",
     "text": [
      "  2%|▏         | 2/133 [00:18<19:02,  8.72s/it]"
     ]
    },
    {
     "name": "stdout",
     "output_type": "stream",
     "text": [
      "texts ['An image of clothing with name: Shoes, and description: Acetate earrings with rectangular pendants. Length 4.6 cm.', 'An image of clothing with name: Jersey Basic, and description: Acetate earrings with rectangular pendants. Length 4.6 cm.', 'An image of clothing with name: Swimwear, and description: Acetate earrings with rectangular pendants. Length 4.6 cm.', 'An image of clothing with name: Dresses Ladies, and description: Acetate earrings with rectangular pendants. Length 4.6 cm.', 'An image of clothing with name: Blouses, and description: Acetate earrings with rectangular pendants. Length 4.6 cm.', 'An image of clothing with name: Dressed, and description: Acetate earrings with rectangular pendants. Length 4.6 cm.', 'An image of clothing with name: Trousers, and description: Acetate earrings with rectangular pendants. Length 4.6 cm.', 'An image of clothing with name: Under-, Nightwear, and description: Acetate earrings with rectangular pendants. Length 4.6 cm.', 'An image of clothing with name: Shirts, and description: Acetate earrings with rectangular pendants. Length 4.6 cm.', 'An image of clothing with name: Trousers Denim, and description: Acetate earrings with rectangular pendants. Length 4.6 cm.', 'An image of clothing with name: Knitwear, and description: Acetate earrings with rectangular pendants. Length 4.6 cm.', 'An image of clothing with name: Dresses/Skirts girls, and description: Acetate earrings with rectangular pendants. Length 4.6 cm.', 'An image of clothing with name: Shorts, and description: Acetate earrings with rectangular pendants. Length 4.6 cm.', 'An image of clothing with name: Jersey Fancy, and description: Acetate earrings with rectangular pendants. Length 4.6 cm.', 'An image of clothing with name: Accessories, and description: Acetate earrings with rectangular pendants. Length 4.6 cm.', 'An image of clothing with name: Outdoor, and description: Acetate earrings with rectangular pendants. Length 4.6 cm.', 'An image of clothing with name: Skirts, and description: Acetate earrings with rectangular pendants. Length 4.6 cm.', 'An image of clothing with name: Socks and Tights, and description: Acetate earrings with rectangular pendants. Length 4.6 cm.']\n"
     ]
    },
    {
     "name": "stderr",
     "output_type": "stream",
     "text": [
      "  2%|▏         | 3/133 [00:23<15:20,  7.08s/it]"
     ]
    },
    {
     "name": "stdout",
     "output_type": "stream",
     "text": [
      "texts ['An image of clothing with name: Shoes, and description: Smartphone bag in soft, transparent plastic with an adjustable shoulder strap, zip at the top and a zipped outer compartment. Depth 5 cm. Width 10.5 cm. Height 15 cm.', 'An image of clothing with name: Jersey Basic, and description: Smartphone bag in soft, transparent plastic with an adjustable shoulder strap, zip at the top and a zipped outer compartment. Depth 5 cm. Width 10.5 cm. Height 15 cm.', 'An image of clothing with name: Swimwear, and description: Smartphone bag in soft, transparent plastic with an adjustable shoulder strap, zip at the top and a zipped outer compartment. Depth 5 cm. Width 10.5 cm. Height 15 cm.', 'An image of clothing with name: Dresses Ladies, and description: Smartphone bag in soft, transparent plastic with an adjustable shoulder strap, zip at the top and a zipped outer compartment. Depth 5 cm. Width 10.5 cm. Height 15 cm.', 'An image of clothing with name: Blouses, and description: Smartphone bag in soft, transparent plastic with an adjustable shoulder strap, zip at the top and a zipped outer compartment. Depth 5 cm. Width 10.5 cm. Height 15 cm.', 'An image of clothing with name: Dressed, and description: Smartphone bag in soft, transparent plastic with an adjustable shoulder strap, zip at the top and a zipped outer compartment. Depth 5 cm. Width 10.5 cm. Height 15 cm.', 'An image of clothing with name: Trousers, and description: Smartphone bag in soft, transparent plastic with an adjustable shoulder strap, zip at the top and a zipped outer compartment. Depth 5 cm. Width 10.5 cm. Height 15 cm.', 'An image of clothing with name: Under-, Nightwear, and description: Smartphone bag in soft, transparent plastic with an adjustable shoulder strap, zip at the top and a zipped outer compartment. Depth 5 cm. Width 10.5 cm. Height 15 cm.', 'An image of clothing with name: Shirts, and description: Smartphone bag in soft, transparent plastic with an adjustable shoulder strap, zip at the top and a zipped outer compartment. Depth 5 cm. Width 10.5 cm. Height 15 cm.', 'An image of clothing with name: Trousers Denim, and description: Smartphone bag in soft, transparent plastic with an adjustable shoulder strap, zip at the top and a zipped outer compartment. Depth 5 cm. Width 10.5 cm. Height 15 cm.', 'An image of clothing with name: Knitwear, and description: Smartphone bag in soft, transparent plastic with an adjustable shoulder strap, zip at the top and a zipped outer compartment. Depth 5 cm. Width 10.5 cm. Height 15 cm.', 'An image of clothing with name: Dresses/Skirts girls, and description: Smartphone bag in soft, transparent plastic with an adjustable shoulder strap, zip at the top and a zipped outer compartment. Depth 5 cm. Width 10.5 cm. Height 15 cm.', 'An image of clothing with name: Shorts, and description: Smartphone bag in soft, transparent plastic with an adjustable shoulder strap, zip at the top and a zipped outer compartment. Depth 5 cm. Width 10.5 cm. Height 15 cm.', 'An image of clothing with name: Jersey Fancy, and description: Smartphone bag in soft, transparent plastic with an adjustable shoulder strap, zip at the top and a zipped outer compartment. Depth 5 cm. Width 10.5 cm. Height 15 cm.', 'An image of clothing with name: Accessories, and description: Smartphone bag in soft, transparent plastic with an adjustable shoulder strap, zip at the top and a zipped outer compartment. Depth 5 cm. Width 10.5 cm. Height 15 cm.', 'An image of clothing with name: Outdoor, and description: Smartphone bag in soft, transparent plastic with an adjustable shoulder strap, zip at the top and a zipped outer compartment. Depth 5 cm. Width 10.5 cm. Height 15 cm.', 'An image of clothing with name: Skirts, and description: Smartphone bag in soft, transparent plastic with an adjustable shoulder strap, zip at the top and a zipped outer compartment. Depth 5 cm. Width 10.5 cm. Height 15 cm.', 'An image of clothing with name: Socks and Tights, and description: Smartphone bag in soft, transparent plastic with an adjustable shoulder strap, zip at the top and a zipped outer compartment. Depth 5 cm. Width 10.5 cm. Height 15 cm.']\n"
     ]
    },
    {
     "name": "stderr",
     "output_type": "stream",
     "text": [
      "  3%|▎         | 4/133 [00:28<13:12,  6.14s/it]"
     ]
    },
    {
     "name": "stdout",
     "output_type": "stream",
     "text": [
      "texts ['An image of clothing with name: Shoes, and description: T-shirts in soft, printed cotton jersey with press-studs on one shoulder and slits in the sides. Slightly longer at the back.', 'An image of clothing with name: Jersey Basic, and description: T-shirts in soft, printed cotton jersey with press-studs on one shoulder and slits in the sides. Slightly longer at the back.', 'An image of clothing with name: Swimwear, and description: T-shirts in soft, printed cotton jersey with press-studs on one shoulder and slits in the sides. Slightly longer at the back.', 'An image of clothing with name: Dresses Ladies, and description: T-shirts in soft, printed cotton jersey with press-studs on one shoulder and slits in the sides. Slightly longer at the back.', 'An image of clothing with name: Blouses, and description: T-shirts in soft, printed cotton jersey with press-studs on one shoulder and slits in the sides. Slightly longer at the back.', 'An image of clothing with name: Dressed, and description: T-shirts in soft, printed cotton jersey with press-studs on one shoulder and slits in the sides. Slightly longer at the back.', 'An image of clothing with name: Trousers, and description: T-shirts in soft, printed cotton jersey with press-studs on one shoulder and slits in the sides. Slightly longer at the back.', 'An image of clothing with name: Under-, Nightwear, and description: T-shirts in soft, printed cotton jersey with press-studs on one shoulder and slits in the sides. Slightly longer at the back.', 'An image of clothing with name: Shirts, and description: T-shirts in soft, printed cotton jersey with press-studs on one shoulder and slits in the sides. Slightly longer at the back.', 'An image of clothing with name: Trousers Denim, and description: T-shirts in soft, printed cotton jersey with press-studs on one shoulder and slits in the sides. Slightly longer at the back.', 'An image of clothing with name: Knitwear, and description: T-shirts in soft, printed cotton jersey with press-studs on one shoulder and slits in the sides. Slightly longer at the back.', 'An image of clothing with name: Dresses/Skirts girls, and description: T-shirts in soft, printed cotton jersey with press-studs on one shoulder and slits in the sides. Slightly longer at the back.', 'An image of clothing with name: Shorts, and description: T-shirts in soft, printed cotton jersey with press-studs on one shoulder and slits in the sides. Slightly longer at the back.', 'An image of clothing with name: Jersey Fancy, and description: T-shirts in soft, printed cotton jersey with press-studs on one shoulder and slits in the sides. Slightly longer at the back.', 'An image of clothing with name: Accessories, and description: T-shirts in soft, printed cotton jersey with press-studs on one shoulder and slits in the sides. Slightly longer at the back.', 'An image of clothing with name: Outdoor, and description: T-shirts in soft, printed cotton jersey with press-studs on one shoulder and slits in the sides. Slightly longer at the back.', 'An image of clothing with name: Skirts, and description: T-shirts in soft, printed cotton jersey with press-studs on one shoulder and slits in the sides. Slightly longer at the back.', 'An image of clothing with name: Socks and Tights, and description: T-shirts in soft, printed cotton jersey with press-studs on one shoulder and slits in the sides. Slightly longer at the back.']\n"
     ]
    },
    {
     "name": "stderr",
     "output_type": "stream",
     "text": [
      "  4%|▍         | 5/133 [00:32<11:50,  5.55s/it]"
     ]
    },
    {
     "name": "stdout",
     "output_type": "stream",
     "text": [
      "texts ['An image of clothing with name: Shoes, and description: Imitation leather shopper with imitation suede inside, two handles and a magnetic fastener at the top. One inner compartment with an additional zipped pocket. Unlined. Size approx. 13x33x41 cm.', 'An image of clothing with name: Jersey Basic, and description: Imitation leather shopper with imitation suede inside, two handles and a magnetic fastener at the top. One inner compartment with an additional zipped pocket. Unlined. Size approx. 13x33x41 cm.', 'An image of clothing with name: Swimwear, and description: Imitation leather shopper with imitation suede inside, two handles and a magnetic fastener at the top. One inner compartment with an additional zipped pocket. Unlined. Size approx. 13x33x41 cm.', 'An image of clothing with name: Dresses Ladies, and description: Imitation leather shopper with imitation suede inside, two handles and a magnetic fastener at the top. One inner compartment with an additional zipped pocket. Unlined. Size approx. 13x33x41 cm.', 'An image of clothing with name: Blouses, and description: Imitation leather shopper with imitation suede inside, two handles and a magnetic fastener at the top. One inner compartment with an additional zipped pocket. Unlined. Size approx. 13x33x41 cm.', 'An image of clothing with name: Dressed, and description: Imitation leather shopper with imitation suede inside, two handles and a magnetic fastener at the top. One inner compartment with an additional zipped pocket. Unlined. Size approx. 13x33x41 cm.', 'An image of clothing with name: Trousers, and description: Imitation leather shopper with imitation suede inside, two handles and a magnetic fastener at the top. One inner compartment with an additional zipped pocket. Unlined. Size approx. 13x33x41 cm.', 'An image of clothing with name: Under-, Nightwear, and description: Imitation leather shopper with imitation suede inside, two handles and a magnetic fastener at the top. One inner compartment with an additional zipped pocket. Unlined. Size approx. 13x33x41 cm.', 'An image of clothing with name: Shirts, and description: Imitation leather shopper with imitation suede inside, two handles and a magnetic fastener at the top. One inner compartment with an additional zipped pocket. Unlined. Size approx. 13x33x41 cm.', 'An image of clothing with name: Trousers Denim, and description: Imitation leather shopper with imitation suede inside, two handles and a magnetic fastener at the top. One inner compartment with an additional zipped pocket. Unlined. Size approx. 13x33x41 cm.', 'An image of clothing with name: Knitwear, and description: Imitation leather shopper with imitation suede inside, two handles and a magnetic fastener at the top. One inner compartment with an additional zipped pocket. Unlined. Size approx. 13x33x41 cm.', 'An image of clothing with name: Dresses/Skirts girls, and description: Imitation leather shopper with imitation suede inside, two handles and a magnetic fastener at the top. One inner compartment with an additional zipped pocket. Unlined. Size approx. 13x33x41 cm.', 'An image of clothing with name: Shorts, and description: Imitation leather shopper with imitation suede inside, two handles and a magnetic fastener at the top. One inner compartment with an additional zipped pocket. Unlined. Size approx. 13x33x41 cm.', 'An image of clothing with name: Jersey Fancy, and description: Imitation leather shopper with imitation suede inside, two handles and a magnetic fastener at the top. One inner compartment with an additional zipped pocket. Unlined. Size approx. 13x33x41 cm.', 'An image of clothing with name: Accessories, and description: Imitation leather shopper with imitation suede inside, two handles and a magnetic fastener at the top. One inner compartment with an additional zipped pocket. Unlined. Size approx. 13x33x41 cm.', 'An image of clothing with name: Outdoor, and description: Imitation leather shopper with imitation suede inside, two handles and a magnetic fastener at the top. One inner compartment with an additional zipped pocket. Unlined. Size approx. 13x33x41 cm.', 'An image of clothing with name: Skirts, and description: Imitation leather shopper with imitation suede inside, two handles and a magnetic fastener at the top. One inner compartment with an additional zipped pocket. Unlined. Size approx. 13x33x41 cm.', 'An image of clothing with name: Socks and Tights, and description: Imitation leather shopper with imitation suede inside, two handles and a magnetic fastener at the top. One inner compartment with an additional zipped pocket. Unlined. Size approx. 13x33x41 cm.']\n"
     ]
    },
    {
     "name": "stderr",
     "output_type": "stream",
     "text": [
      "  5%|▍         | 6/133 [00:37<11:05,  5.24s/it]"
     ]
    },
    {
     "name": "stdout",
     "output_type": "stream",
     "text": [
      "texts ['An image of clothing with name: Shoes, and description: Print-patterned swim shorts with an elasticated drawstring waist. Soft mesh inner shorts.', 'An image of clothing with name: Jersey Basic, and description: Print-patterned swim shorts with an elasticated drawstring waist. Soft mesh inner shorts.', 'An image of clothing with name: Swimwear, and description: Print-patterned swim shorts with an elasticated drawstring waist. Soft mesh inner shorts.', 'An image of clothing with name: Dresses Ladies, and description: Print-patterned swim shorts with an elasticated drawstring waist. Soft mesh inner shorts.', 'An image of clothing with name: Blouses, and description: Print-patterned swim shorts with an elasticated drawstring waist. Soft mesh inner shorts.', 'An image of clothing with name: Dressed, and description: Print-patterned swim shorts with an elasticated drawstring waist. Soft mesh inner shorts.', 'An image of clothing with name: Trousers, and description: Print-patterned swim shorts with an elasticated drawstring waist. Soft mesh inner shorts.', 'An image of clothing with name: Under-, Nightwear, and description: Print-patterned swim shorts with an elasticated drawstring waist. Soft mesh inner shorts.', 'An image of clothing with name: Shirts, and description: Print-patterned swim shorts with an elasticated drawstring waist. Soft mesh inner shorts.', 'An image of clothing with name: Trousers Denim, and description: Print-patterned swim shorts with an elasticated drawstring waist. Soft mesh inner shorts.', 'An image of clothing with name: Knitwear, and description: Print-patterned swim shorts with an elasticated drawstring waist. Soft mesh inner shorts.', 'An image of clothing with name: Dresses/Skirts girls, and description: Print-patterned swim shorts with an elasticated drawstring waist. Soft mesh inner shorts.', 'An image of clothing with name: Shorts, and description: Print-patterned swim shorts with an elasticated drawstring waist. Soft mesh inner shorts.', 'An image of clothing with name: Jersey Fancy, and description: Print-patterned swim shorts with an elasticated drawstring waist. Soft mesh inner shorts.', 'An image of clothing with name: Accessories, and description: Print-patterned swim shorts with an elasticated drawstring waist. Soft mesh inner shorts.', 'An image of clothing with name: Outdoor, and description: Print-patterned swim shorts with an elasticated drawstring waist. Soft mesh inner shorts.', 'An image of clothing with name: Skirts, and description: Print-patterned swim shorts with an elasticated drawstring waist. Soft mesh inner shorts.', 'An image of clothing with name: Socks and Tights, and description: Print-patterned swim shorts with an elasticated drawstring waist. Soft mesh inner shorts.']\n"
     ]
    },
    {
     "name": "stderr",
     "output_type": "stream",
     "text": [
      "  5%|▌         | 7/133 [00:41<10:20,  4.93s/it]"
     ]
    },
    {
     "name": "stdout",
     "output_type": "stream",
     "text": [
      "texts ['An image of clothing with name: Shoes, and description: 5-pocket, knee-length shorts in washed, stretch denim with an adjustable elasticated waist (in sizes 8-12Y) and zip fly and button.', 'An image of clothing with name: Jersey Basic, and description: 5-pocket, knee-length shorts in washed, stretch denim with an adjustable elasticated waist (in sizes 8-12Y) and zip fly and button.', 'An image of clothing with name: Swimwear, and description: 5-pocket, knee-length shorts in washed, stretch denim with an adjustable elasticated waist (in sizes 8-12Y) and zip fly and button.', 'An image of clothing with name: Dresses Ladies, and description: 5-pocket, knee-length shorts in washed, stretch denim with an adjustable elasticated waist (in sizes 8-12Y) and zip fly and button.', 'An image of clothing with name: Blouses, and description: 5-pocket, knee-length shorts in washed, stretch denim with an adjustable elasticated waist (in sizes 8-12Y) and zip fly and button.', 'An image of clothing with name: Dressed, and description: 5-pocket, knee-length shorts in washed, stretch denim with an adjustable elasticated waist (in sizes 8-12Y) and zip fly and button.', 'An image of clothing with name: Trousers, and description: 5-pocket, knee-length shorts in washed, stretch denim with an adjustable elasticated waist (in sizes 8-12Y) and zip fly and button.', 'An image of clothing with name: Under-, Nightwear, and description: 5-pocket, knee-length shorts in washed, stretch denim with an adjustable elasticated waist (in sizes 8-12Y) and zip fly and button.', 'An image of clothing with name: Shirts, and description: 5-pocket, knee-length shorts in washed, stretch denim with an adjustable elasticated waist (in sizes 8-12Y) and zip fly and button.', 'An image of clothing with name: Trousers Denim, and description: 5-pocket, knee-length shorts in washed, stretch denim with an adjustable elasticated waist (in sizes 8-12Y) and zip fly and button.', 'An image of clothing with name: Knitwear, and description: 5-pocket, knee-length shorts in washed, stretch denim with an adjustable elasticated waist (in sizes 8-12Y) and zip fly and button.', 'An image of clothing with name: Dresses/Skirts girls, and description: 5-pocket, knee-length shorts in washed, stretch denim with an adjustable elasticated waist (in sizes 8-12Y) and zip fly and button.', 'An image of clothing with name: Shorts, and description: 5-pocket, knee-length shorts in washed, stretch denim with an adjustable elasticated waist (in sizes 8-12Y) and zip fly and button.', 'An image of clothing with name: Jersey Fancy, and description: 5-pocket, knee-length shorts in washed, stretch denim with an adjustable elasticated waist (in sizes 8-12Y) and zip fly and button.', 'An image of clothing with name: Accessories, and description: 5-pocket, knee-length shorts in washed, stretch denim with an adjustable elasticated waist (in sizes 8-12Y) and zip fly and button.', 'An image of clothing with name: Outdoor, and description: 5-pocket, knee-length shorts in washed, stretch denim with an adjustable elasticated waist (in sizes 8-12Y) and zip fly and button.', 'An image of clothing with name: Skirts, and description: 5-pocket, knee-length shorts in washed, stretch denim with an adjustable elasticated waist (in sizes 8-12Y) and zip fly and button.', 'An image of clothing with name: Socks and Tights, and description: 5-pocket, knee-length shorts in washed, stretch denim with an adjustable elasticated waist (in sizes 8-12Y) and zip fly and button.']\n"
     ]
    },
    {
     "name": "stderr",
     "output_type": "stream",
     "text": [
      "  6%|▌         | 8/133 [00:45<09:23,  4.50s/it]"
     ]
    },
    {
     "name": "stdout",
     "output_type": "stream",
     "text": [
      "texts ['An image of clothing with name: Shoes, and description: Soft toy in soft faux fur with embroidery and shimmering details and appliqués. Glittery detachable wings in felt and a removable satin dress that has a skirt with a layer of patterned tulle. Size approx. 21x32 cm.', 'An image of clothing with name: Jersey Basic, and description: Soft toy in soft faux fur with embroidery and shimmering details and appliqués. Glittery detachable wings in felt and a removable satin dress that has a skirt with a layer of patterned tulle. Size approx. 21x32 cm.', 'An image of clothing with name: Swimwear, and description: Soft toy in soft faux fur with embroidery and shimmering details and appliqués. Glittery detachable wings in felt and a removable satin dress that has a skirt with a layer of patterned tulle. Size approx. 21x32 cm.', 'An image of clothing with name: Dresses Ladies, and description: Soft toy in soft faux fur with embroidery and shimmering details and appliqués. Glittery detachable wings in felt and a removable satin dress that has a skirt with a layer of patterned tulle. Size approx. 21x32 cm.', 'An image of clothing with name: Blouses, and description: Soft toy in soft faux fur with embroidery and shimmering details and appliqués. Glittery detachable wings in felt and a removable satin dress that has a skirt with a layer of patterned tulle. Size approx. 21x32 cm.', 'An image of clothing with name: Dressed, and description: Soft toy in soft faux fur with embroidery and shimmering details and appliqués. Glittery detachable wings in felt and a removable satin dress that has a skirt with a layer of patterned tulle. Size approx. 21x32 cm.', 'An image of clothing with name: Trousers, and description: Soft toy in soft faux fur with embroidery and shimmering details and appliqués. Glittery detachable wings in felt and a removable satin dress that has a skirt with a layer of patterned tulle. Size approx. 21x32 cm.', 'An image of clothing with name: Under-, Nightwear, and description: Soft toy in soft faux fur with embroidery and shimmering details and appliqués. Glittery detachable wings in felt and a removable satin dress that has a skirt with a layer of patterned tulle. Size approx. 21x32 cm.', 'An image of clothing with name: Shirts, and description: Soft toy in soft faux fur with embroidery and shimmering details and appliqués. Glittery detachable wings in felt and a removable satin dress that has a skirt with a layer of patterned tulle. Size approx. 21x32 cm.', 'An image of clothing with name: Trousers Denim, and description: Soft toy in soft faux fur with embroidery and shimmering details and appliqués. Glittery detachable wings in felt and a removable satin dress that has a skirt with a layer of patterned tulle. Size approx. 21x32 cm.', 'An image of clothing with name: Knitwear, and description: Soft toy in soft faux fur with embroidery and shimmering details and appliqués. Glittery detachable wings in felt and a removable satin dress that has a skirt with a layer of patterned tulle. Size approx. 21x32 cm.', 'An image of clothing with name: Dresses/Skirts girls, and description: Soft toy in soft faux fur with embroidery and shimmering details and appliqués. Glittery detachable wings in felt and a removable satin dress that has a skirt with a layer of patterned tulle. Size approx. 21x32 cm.', 'An image of clothing with name: Shorts, and description: Soft toy in soft faux fur with embroidery and shimmering details and appliqués. Glittery detachable wings in felt and a removable satin dress that has a skirt with a layer of patterned tulle. Size approx. 21x32 cm.', 'An image of clothing with name: Jersey Fancy, and description: Soft toy in soft faux fur with embroidery and shimmering details and appliqués. Glittery detachable wings in felt and a removable satin dress that has a skirt with a layer of patterned tulle. Size approx. 21x32 cm.', 'An image of clothing with name: Accessories, and description: Soft toy in soft faux fur with embroidery and shimmering details and appliqués. Glittery detachable wings in felt and a removable satin dress that has a skirt with a layer of patterned tulle. Size approx. 21x32 cm.', 'An image of clothing with name: Outdoor, and description: Soft toy in soft faux fur with embroidery and shimmering details and appliqués. Glittery detachable wings in felt and a removable satin dress that has a skirt with a layer of patterned tulle. Size approx. 21x32 cm.', 'An image of clothing with name: Skirts, and description: Soft toy in soft faux fur with embroidery and shimmering details and appliqués. Glittery detachable wings in felt and a removable satin dress that has a skirt with a layer of patterned tulle. Size approx. 21x32 cm.', 'An image of clothing with name: Socks and Tights, and description: Soft toy in soft faux fur with embroidery and shimmering details and appliqués. Glittery detachable wings in felt and a removable satin dress that has a skirt with a layer of patterned tulle. Size approx. 21x32 cm.']\n"
     ]
    },
    {
     "name": "stderr",
     "output_type": "stream",
     "text": [
      "  7%|▋         | 9/133 [00:49<09:04,  4.39s/it]"
     ]
    },
    {
     "name": "stdout",
     "output_type": "stream",
     "text": [
      "texts ['An image of clothing with name: Shoes, and description: Straight-cut V-neck dress in a cotton weave with 3/4-length balloon sleeves and elasticated cuffs. Unlined.', 'An image of clothing with name: Jersey Basic, and description: Straight-cut V-neck dress in a cotton weave with 3/4-length balloon sleeves and elasticated cuffs. Unlined.', 'An image of clothing with name: Swimwear, and description: Straight-cut V-neck dress in a cotton weave with 3/4-length balloon sleeves and elasticated cuffs. Unlined.', 'An image of clothing with name: Dresses Ladies, and description: Straight-cut V-neck dress in a cotton weave with 3/4-length balloon sleeves and elasticated cuffs. Unlined.', 'An image of clothing with name: Blouses, and description: Straight-cut V-neck dress in a cotton weave with 3/4-length balloon sleeves and elasticated cuffs. Unlined.', 'An image of clothing with name: Dressed, and description: Straight-cut V-neck dress in a cotton weave with 3/4-length balloon sleeves and elasticated cuffs. Unlined.', 'An image of clothing with name: Trousers, and description: Straight-cut V-neck dress in a cotton weave with 3/4-length balloon sleeves and elasticated cuffs. Unlined.', 'An image of clothing with name: Under-, Nightwear, and description: Straight-cut V-neck dress in a cotton weave with 3/4-length balloon sleeves and elasticated cuffs. Unlined.', 'An image of clothing with name: Shirts, and description: Straight-cut V-neck dress in a cotton weave with 3/4-length balloon sleeves and elasticated cuffs. Unlined.', 'An image of clothing with name: Trousers Denim, and description: Straight-cut V-neck dress in a cotton weave with 3/4-length balloon sleeves and elasticated cuffs. Unlined.', 'An image of clothing with name: Knitwear, and description: Straight-cut V-neck dress in a cotton weave with 3/4-length balloon sleeves and elasticated cuffs. Unlined.', 'An image of clothing with name: Dresses/Skirts girls, and description: Straight-cut V-neck dress in a cotton weave with 3/4-length balloon sleeves and elasticated cuffs. Unlined.', 'An image of clothing with name: Shorts, and description: Straight-cut V-neck dress in a cotton weave with 3/4-length balloon sleeves and elasticated cuffs. Unlined.', 'An image of clothing with name: Jersey Fancy, and description: Straight-cut V-neck dress in a cotton weave with 3/4-length balloon sleeves and elasticated cuffs. Unlined.', 'An image of clothing with name: Accessories, and description: Straight-cut V-neck dress in a cotton weave with 3/4-length balloon sleeves and elasticated cuffs. Unlined.', 'An image of clothing with name: Outdoor, and description: Straight-cut V-neck dress in a cotton weave with 3/4-length balloon sleeves and elasticated cuffs. Unlined.', 'An image of clothing with name: Skirts, and description: Straight-cut V-neck dress in a cotton weave with 3/4-length balloon sleeves and elasticated cuffs. Unlined.', 'An image of clothing with name: Socks and Tights, and description: Straight-cut V-neck dress in a cotton weave with 3/4-length balloon sleeves and elasticated cuffs. Unlined.']\n"
     ]
    },
    {
     "name": "stderr",
     "output_type": "stream",
     "text": [
      "  8%|▊         | 10/133 [00:53<08:54,  4.35s/it]"
     ]
    },
    {
     "name": "stdout",
     "output_type": "stream",
     "text": [
      "texts ['An image of clothing with name: Shoes, and description: Ankle-length sports tights in fast-drying functional fabric. Extra-high waist with a wide waist panel and raw-edge hems.', 'An image of clothing with name: Jersey Basic, and description: Ankle-length sports tights in fast-drying functional fabric. Extra-high waist with a wide waist panel and raw-edge hems.', 'An image of clothing with name: Swimwear, and description: Ankle-length sports tights in fast-drying functional fabric. Extra-high waist with a wide waist panel and raw-edge hems.', 'An image of clothing with name: Dresses Ladies, and description: Ankle-length sports tights in fast-drying functional fabric. Extra-high waist with a wide waist panel and raw-edge hems.', 'An image of clothing with name: Blouses, and description: Ankle-length sports tights in fast-drying functional fabric. Extra-high waist with a wide waist panel and raw-edge hems.', 'An image of clothing with name: Dressed, and description: Ankle-length sports tights in fast-drying functional fabric. Extra-high waist with a wide waist panel and raw-edge hems.', 'An image of clothing with name: Trousers, and description: Ankle-length sports tights in fast-drying functional fabric. Extra-high waist with a wide waist panel and raw-edge hems.', 'An image of clothing with name: Under-, Nightwear, and description: Ankle-length sports tights in fast-drying functional fabric. Extra-high waist with a wide waist panel and raw-edge hems.', 'An image of clothing with name: Shirts, and description: Ankle-length sports tights in fast-drying functional fabric. Extra-high waist with a wide waist panel and raw-edge hems.', 'An image of clothing with name: Trousers Denim, and description: Ankle-length sports tights in fast-drying functional fabric. Extra-high waist with a wide waist panel and raw-edge hems.', 'An image of clothing with name: Knitwear, and description: Ankle-length sports tights in fast-drying functional fabric. Extra-high waist with a wide waist panel and raw-edge hems.', 'An image of clothing with name: Dresses/Skirts girls, and description: Ankle-length sports tights in fast-drying functional fabric. Extra-high waist with a wide waist panel and raw-edge hems.', 'An image of clothing with name: Shorts, and description: Ankle-length sports tights in fast-drying functional fabric. Extra-high waist with a wide waist panel and raw-edge hems.', 'An image of clothing with name: Jersey Fancy, and description: Ankle-length sports tights in fast-drying functional fabric. Extra-high waist with a wide waist panel and raw-edge hems.', 'An image of clothing with name: Accessories, and description: Ankle-length sports tights in fast-drying functional fabric. Extra-high waist with a wide waist panel and raw-edge hems.', 'An image of clothing with name: Outdoor, and description: Ankle-length sports tights in fast-drying functional fabric. Extra-high waist with a wide waist panel and raw-edge hems.', 'An image of clothing with name: Skirts, and description: Ankle-length sports tights in fast-drying functional fabric. Extra-high waist with a wide waist panel and raw-edge hems.', 'An image of clothing with name: Socks and Tights, and description: Ankle-length sports tights in fast-drying functional fabric. Extra-high waist with a wide waist panel and raw-edge hems.']\n"
     ]
    },
    {
     "name": "stderr",
     "output_type": "stream",
     "text": [
      "  8%|▊         | 11/133 [00:57<08:24,  4.13s/it]"
     ]
    },
    {
     "name": "stdout",
     "output_type": "stream",
     "text": [
      "texts ['An image of clothing with name: Shoes, and description: Short V-neck dress in jersey crêpe with a narrow, detachable tie belt at the waist and 3/4-length sleeves with cuffs and decorative buttons. Unlined.', 'An image of clothing with name: Jersey Basic, and description: Short V-neck dress in jersey crêpe with a narrow, detachable tie belt at the waist and 3/4-length sleeves with cuffs and decorative buttons. Unlined.', 'An image of clothing with name: Swimwear, and description: Short V-neck dress in jersey crêpe with a narrow, detachable tie belt at the waist and 3/4-length sleeves with cuffs and decorative buttons. Unlined.', 'An image of clothing with name: Dresses Ladies, and description: Short V-neck dress in jersey crêpe with a narrow, detachable tie belt at the waist and 3/4-length sleeves with cuffs and decorative buttons. Unlined.', 'An image of clothing with name: Blouses, and description: Short V-neck dress in jersey crêpe with a narrow, detachable tie belt at the waist and 3/4-length sleeves with cuffs and decorative buttons. Unlined.', 'An image of clothing with name: Dressed, and description: Short V-neck dress in jersey crêpe with a narrow, detachable tie belt at the waist and 3/4-length sleeves with cuffs and decorative buttons. Unlined.', 'An image of clothing with name: Trousers, and description: Short V-neck dress in jersey crêpe with a narrow, detachable tie belt at the waist and 3/4-length sleeves with cuffs and decorative buttons. Unlined.', 'An image of clothing with name: Under-, Nightwear, and description: Short V-neck dress in jersey crêpe with a narrow, detachable tie belt at the waist and 3/4-length sleeves with cuffs and decorative buttons. Unlined.', 'An image of clothing with name: Shirts, and description: Short V-neck dress in jersey crêpe with a narrow, detachable tie belt at the waist and 3/4-length sleeves with cuffs and decorative buttons. Unlined.', 'An image of clothing with name: Trousers Denim, and description: Short V-neck dress in jersey crêpe with a narrow, detachable tie belt at the waist and 3/4-length sleeves with cuffs and decorative buttons. Unlined.', 'An image of clothing with name: Knitwear, and description: Short V-neck dress in jersey crêpe with a narrow, detachable tie belt at the waist and 3/4-length sleeves with cuffs and decorative buttons. Unlined.', 'An image of clothing with name: Dresses/Skirts girls, and description: Short V-neck dress in jersey crêpe with a narrow, detachable tie belt at the waist and 3/4-length sleeves with cuffs and decorative buttons. Unlined.', 'An image of clothing with name: Shorts, and description: Short V-neck dress in jersey crêpe with a narrow, detachable tie belt at the waist and 3/4-length sleeves with cuffs and decorative buttons. Unlined.', 'An image of clothing with name: Jersey Fancy, and description: Short V-neck dress in jersey crêpe with a narrow, detachable tie belt at the waist and 3/4-length sleeves with cuffs and decorative buttons. Unlined.', 'An image of clothing with name: Accessories, and description: Short V-neck dress in jersey crêpe with a narrow, detachable tie belt at the waist and 3/4-length sleeves with cuffs and decorative buttons. Unlined.', 'An image of clothing with name: Outdoor, and description: Short V-neck dress in jersey crêpe with a narrow, detachable tie belt at the waist and 3/4-length sleeves with cuffs and decorative buttons. Unlined.', 'An image of clothing with name: Skirts, and description: Short V-neck dress in jersey crêpe with a narrow, detachable tie belt at the waist and 3/4-length sleeves with cuffs and decorative buttons. Unlined.', 'An image of clothing with name: Socks and Tights, and description: Short V-neck dress in jersey crêpe with a narrow, detachable tie belt at the waist and 3/4-length sleeves with cuffs and decorative buttons. Unlined.']\n"
     ]
    },
    {
     "name": "stderr",
     "output_type": "stream",
     "text": [
      "  9%|▉         | 12/133 [01:01<08:08,  4.04s/it]"
     ]
    },
    {
     "name": "stdout",
     "output_type": "stream",
     "text": [
      "texts ['An image of clothing with name: Shoes, and description: Straight-cut jacket in woven fabric with notch lapels and patch front pockets. One-button fastening at the front, decorative buttons at the cuffs and a single back vent. Lined. The polyester content of the jacket is partly recycled.', 'An image of clothing with name: Jersey Basic, and description: Straight-cut jacket in woven fabric with notch lapels and patch front pockets. One-button fastening at the front, decorative buttons at the cuffs and a single back vent. Lined. The polyester content of the jacket is partly recycled.', 'An image of clothing with name: Swimwear, and description: Straight-cut jacket in woven fabric with notch lapels and patch front pockets. One-button fastening at the front, decorative buttons at the cuffs and a single back vent. Lined. The polyester content of the jacket is partly recycled.', 'An image of clothing with name: Dresses Ladies, and description: Straight-cut jacket in woven fabric with notch lapels and patch front pockets. One-button fastening at the front, decorative buttons at the cuffs and a single back vent. Lined. The polyester content of the jacket is partly recycled.', 'An image of clothing with name: Blouses, and description: Straight-cut jacket in woven fabric with notch lapels and patch front pockets. One-button fastening at the front, decorative buttons at the cuffs and a single back vent. Lined. The polyester content of the jacket is partly recycled.', 'An image of clothing with name: Dressed, and description: Straight-cut jacket in woven fabric with notch lapels and patch front pockets. One-button fastening at the front, decorative buttons at the cuffs and a single back vent. Lined. The polyester content of the jacket is partly recycled.', 'An image of clothing with name: Trousers, and description: Straight-cut jacket in woven fabric with notch lapels and patch front pockets. One-button fastening at the front, decorative buttons at the cuffs and a single back vent. Lined. The polyester content of the jacket is partly recycled.', 'An image of clothing with name: Under-, Nightwear, and description: Straight-cut jacket in woven fabric with notch lapels and patch front pockets. One-button fastening at the front, decorative buttons at the cuffs and a single back vent. Lined. The polyester content of the jacket is partly recycled.', 'An image of clothing with name: Shirts, and description: Straight-cut jacket in woven fabric with notch lapels and patch front pockets. One-button fastening at the front, decorative buttons at the cuffs and a single back vent. Lined. The polyester content of the jacket is partly recycled.', 'An image of clothing with name: Trousers Denim, and description: Straight-cut jacket in woven fabric with notch lapels and patch front pockets. One-button fastening at the front, decorative buttons at the cuffs and a single back vent. Lined. The polyester content of the jacket is partly recycled.', 'An image of clothing with name: Knitwear, and description: Straight-cut jacket in woven fabric with notch lapels and patch front pockets. One-button fastening at the front, decorative buttons at the cuffs and a single back vent. Lined. The polyester content of the jacket is partly recycled.', 'An image of clothing with name: Dresses/Skirts girls, and description: Straight-cut jacket in woven fabric with notch lapels and patch front pockets. One-button fastening at the front, decorative buttons at the cuffs and a single back vent. Lined. The polyester content of the jacket is partly recycled.', 'An image of clothing with name: Shorts, and description: Straight-cut jacket in woven fabric with notch lapels and patch front pockets. One-button fastening at the front, decorative buttons at the cuffs and a single back vent. Lined. The polyester content of the jacket is partly recycled.', 'An image of clothing with name: Jersey Fancy, and description: Straight-cut jacket in woven fabric with notch lapels and patch front pockets. One-button fastening at the front, decorative buttons at the cuffs and a single back vent. Lined. The polyester content of the jacket is partly recycled.', 'An image of clothing with name: Accessories, and description: Straight-cut jacket in woven fabric with notch lapels and patch front pockets. One-button fastening at the front, decorative buttons at the cuffs and a single back vent. Lined. The polyester content of the jacket is partly recycled.', 'An image of clothing with name: Outdoor, and description: Straight-cut jacket in woven fabric with notch lapels and patch front pockets. One-button fastening at the front, decorative buttons at the cuffs and a single back vent. Lined. The polyester content of the jacket is partly recycled.', 'An image of clothing with name: Skirts, and description: Straight-cut jacket in woven fabric with notch lapels and patch front pockets. One-button fastening at the front, decorative buttons at the cuffs and a single back vent. Lined. The polyester content of the jacket is partly recycled.', 'An image of clothing with name: Socks and Tights, and description: Straight-cut jacket in woven fabric with notch lapels and patch front pockets. One-button fastening at the front, decorative buttons at the cuffs and a single back vent. Lined. The polyester content of the jacket is partly recycled.']\n"
     ]
    },
    {
     "name": "stderr",
     "output_type": "stream",
     "text": [
      " 10%|▉         | 13/133 [01:04<07:50,  3.92s/it]"
     ]
    },
    {
     "name": "stdout",
     "output_type": "stream",
     "text": [
      "texts ['An image of clothing with name: Shoes, and description: Headband in a soft knit with a knot detail at the front.', 'An image of clothing with name: Jersey Basic, and description: Headband in a soft knit with a knot detail at the front.', 'An image of clothing with name: Swimwear, and description: Headband in a soft knit with a knot detail at the front.', 'An image of clothing with name: Dresses Ladies, and description: Headband in a soft knit with a knot detail at the front.', 'An image of clothing with name: Blouses, and description: Headband in a soft knit with a knot detail at the front.', 'An image of clothing with name: Dressed, and description: Headband in a soft knit with a knot detail at the front.', 'An image of clothing with name: Trousers, and description: Headband in a soft knit with a knot detail at the front.', 'An image of clothing with name: Under-, Nightwear, and description: Headband in a soft knit with a knot detail at the front.', 'An image of clothing with name: Shirts, and description: Headband in a soft knit with a knot detail at the front.', 'An image of clothing with name: Trousers Denim, and description: Headband in a soft knit with a knot detail at the front.', 'An image of clothing with name: Knitwear, and description: Headband in a soft knit with a knot detail at the front.', 'An image of clothing with name: Dresses/Skirts girls, and description: Headband in a soft knit with a knot detail at the front.', 'An image of clothing with name: Shorts, and description: Headband in a soft knit with a knot detail at the front.', 'An image of clothing with name: Jersey Fancy, and description: Headband in a soft knit with a knot detail at the front.', 'An image of clothing with name: Accessories, and description: Headband in a soft knit with a knot detail at the front.', 'An image of clothing with name: Outdoor, and description: Headband in a soft knit with a knot detail at the front.', 'An image of clothing with name: Skirts, and description: Headband in a soft knit with a knot detail at the front.', 'An image of clothing with name: Socks and Tights, and description: Headband in a soft knit with a knot detail at the front.']\n"
     ]
    },
    {
     "name": "stderr",
     "output_type": "stream",
     "text": [
      " 11%|█         | 14/133 [01:08<07:44,  3.90s/it]"
     ]
    },
    {
     "name": "stdout",
     "output_type": "stream",
     "text": [
      "texts ['An image of clothing with name: Shoes, and description: Short skirt in a crêpe weave with a high paper bag waist, detachable tie belt, pleats at the top and buttons down the front. Lined.', 'An image of clothing with name: Jersey Basic, and description: Short skirt in a crêpe weave with a high paper bag waist, detachable tie belt, pleats at the top and buttons down the front. Lined.', 'An image of clothing with name: Swimwear, and description: Short skirt in a crêpe weave with a high paper bag waist, detachable tie belt, pleats at the top and buttons down the front. Lined.', 'An image of clothing with name: Dresses Ladies, and description: Short skirt in a crêpe weave with a high paper bag waist, detachable tie belt, pleats at the top and buttons down the front. Lined.', 'An image of clothing with name: Blouses, and description: Short skirt in a crêpe weave with a high paper bag waist, detachable tie belt, pleats at the top and buttons down the front. Lined.', 'An image of clothing with name: Dressed, and description: Short skirt in a crêpe weave with a high paper bag waist, detachable tie belt, pleats at the top and buttons down the front. Lined.', 'An image of clothing with name: Trousers, and description: Short skirt in a crêpe weave with a high paper bag waist, detachable tie belt, pleats at the top and buttons down the front. Lined.', 'An image of clothing with name: Under-, Nightwear, and description: Short skirt in a crêpe weave with a high paper bag waist, detachable tie belt, pleats at the top and buttons down the front. Lined.', 'An image of clothing with name: Shirts, and description: Short skirt in a crêpe weave with a high paper bag waist, detachable tie belt, pleats at the top and buttons down the front. Lined.', 'An image of clothing with name: Trousers Denim, and description: Short skirt in a crêpe weave with a high paper bag waist, detachable tie belt, pleats at the top and buttons down the front. Lined.', 'An image of clothing with name: Knitwear, and description: Short skirt in a crêpe weave with a high paper bag waist, detachable tie belt, pleats at the top and buttons down the front. Lined.', 'An image of clothing with name: Dresses/Skirts girls, and description: Short skirt in a crêpe weave with a high paper bag waist, detachable tie belt, pleats at the top and buttons down the front. Lined.', 'An image of clothing with name: Shorts, and description: Short skirt in a crêpe weave with a high paper bag waist, detachable tie belt, pleats at the top and buttons down the front. Lined.', 'An image of clothing with name: Jersey Fancy, and description: Short skirt in a crêpe weave with a high paper bag waist, detachable tie belt, pleats at the top and buttons down the front. Lined.', 'An image of clothing with name: Accessories, and description: Short skirt in a crêpe weave with a high paper bag waist, detachable tie belt, pleats at the top and buttons down the front. Lined.', 'An image of clothing with name: Outdoor, and description: Short skirt in a crêpe weave with a high paper bag waist, detachable tie belt, pleats at the top and buttons down the front. Lined.', 'An image of clothing with name: Skirts, and description: Short skirt in a crêpe weave with a high paper bag waist, detachable tie belt, pleats at the top and buttons down the front. Lined.', 'An image of clothing with name: Socks and Tights, and description: Short skirt in a crêpe weave with a high paper bag waist, detachable tie belt, pleats at the top and buttons down the front. Lined.']\n"
     ]
    },
    {
     "name": "stderr",
     "output_type": "stream",
     "text": [
      " 11%|█▏        | 15/133 [01:12<07:41,  3.91s/it]"
     ]
    },
    {
     "name": "stdout",
     "output_type": "stream",
     "text": [
      "texts ['An image of clothing with name: Shoes, and description: Straight-cut top in a softly draping weave with a concealed zip at the back, dropped shoulders and short sleeves in a double layer of flounces.', 'An image of clothing with name: Jersey Basic, and description: Straight-cut top in a softly draping weave with a concealed zip at the back, dropped shoulders and short sleeves in a double layer of flounces.', 'An image of clothing with name: Swimwear, and description: Straight-cut top in a softly draping weave with a concealed zip at the back, dropped shoulders and short sleeves in a double layer of flounces.', 'An image of clothing with name: Dresses Ladies, and description: Straight-cut top in a softly draping weave with a concealed zip at the back, dropped shoulders and short sleeves in a double layer of flounces.', 'An image of clothing with name: Blouses, and description: Straight-cut top in a softly draping weave with a concealed zip at the back, dropped shoulders and short sleeves in a double layer of flounces.', 'An image of clothing with name: Dressed, and description: Straight-cut top in a softly draping weave with a concealed zip at the back, dropped shoulders and short sleeves in a double layer of flounces.', 'An image of clothing with name: Trousers, and description: Straight-cut top in a softly draping weave with a concealed zip at the back, dropped shoulders and short sleeves in a double layer of flounces.', 'An image of clothing with name: Under-, Nightwear, and description: Straight-cut top in a softly draping weave with a concealed zip at the back, dropped shoulders and short sleeves in a double layer of flounces.', 'An image of clothing with name: Shirts, and description: Straight-cut top in a softly draping weave with a concealed zip at the back, dropped shoulders and short sleeves in a double layer of flounces.', 'An image of clothing with name: Trousers Denim, and description: Straight-cut top in a softly draping weave with a concealed zip at the back, dropped shoulders and short sleeves in a double layer of flounces.', 'An image of clothing with name: Knitwear, and description: Straight-cut top in a softly draping weave with a concealed zip at the back, dropped shoulders and short sleeves in a double layer of flounces.', 'An image of clothing with name: Dresses/Skirts girls, and description: Straight-cut top in a softly draping weave with a concealed zip at the back, dropped shoulders and short sleeves in a double layer of flounces.', 'An image of clothing with name: Shorts, and description: Straight-cut top in a softly draping weave with a concealed zip at the back, dropped shoulders and short sleeves in a double layer of flounces.', 'An image of clothing with name: Jersey Fancy, and description: Straight-cut top in a softly draping weave with a concealed zip at the back, dropped shoulders and short sleeves in a double layer of flounces.', 'An image of clothing with name: Accessories, and description: Straight-cut top in a softly draping weave with a concealed zip at the back, dropped shoulders and short sleeves in a double layer of flounces.', 'An image of clothing with name: Outdoor, and description: Straight-cut top in a softly draping weave with a concealed zip at the back, dropped shoulders and short sleeves in a double layer of flounces.', 'An image of clothing with name: Skirts, and description: Straight-cut top in a softly draping weave with a concealed zip at the back, dropped shoulders and short sleeves in a double layer of flounces.', 'An image of clothing with name: Socks and Tights, and description: Straight-cut top in a softly draping weave with a concealed zip at the back, dropped shoulders and short sleeves in a double layer of flounces.']\n"
     ]
    },
    {
     "name": "stderr",
     "output_type": "stream",
     "text": [
      " 12%|█▏        | 16/133 [01:16<07:31,  3.86s/it]"
     ]
    },
    {
     "name": "stdout",
     "output_type": "stream",
     "text": [
      "texts ['An image of clothing with name: Shoes, and description: Calf-length dress in an airy, patterned linen and viscose weave with wide, adjustable shoulder straps that can be fastened in different ways at the back. Gathered seam at the waist, a concealed zip in one side and a softly draping, flared skirt. Unlined.', 'An image of clothing with name: Jersey Basic, and description: Calf-length dress in an airy, patterned linen and viscose weave with wide, adjustable shoulder straps that can be fastened in different ways at the back. Gathered seam at the waist, a concealed zip in one side and a softly draping, flared skirt. Unlined.', 'An image of clothing with name: Swimwear, and description: Calf-length dress in an airy, patterned linen and viscose weave with wide, adjustable shoulder straps that can be fastened in different ways at the back. Gathered seam at the waist, a concealed zip in one side and a softly draping, flared skirt. Unlined.', 'An image of clothing with name: Dresses Ladies, and description: Calf-length dress in an airy, patterned linen and viscose weave with wide, adjustable shoulder straps that can be fastened in different ways at the back. Gathered seam at the waist, a concealed zip in one side and a softly draping, flared skirt. Unlined.', 'An image of clothing with name: Blouses, and description: Calf-length dress in an airy, patterned linen and viscose weave with wide, adjustable shoulder straps that can be fastened in different ways at the back. Gathered seam at the waist, a concealed zip in one side and a softly draping, flared skirt. Unlined.', 'An image of clothing with name: Dressed, and description: Calf-length dress in an airy, patterned linen and viscose weave with wide, adjustable shoulder straps that can be fastened in different ways at the back. Gathered seam at the waist, a concealed zip in one side and a softly draping, flared skirt. Unlined.', 'An image of clothing with name: Trousers, and description: Calf-length dress in an airy, patterned linen and viscose weave with wide, adjustable shoulder straps that can be fastened in different ways at the back. Gathered seam at the waist, a concealed zip in one side and a softly draping, flared skirt. Unlined.', 'An image of clothing with name: Under-, Nightwear, and description: Calf-length dress in an airy, patterned linen and viscose weave with wide, adjustable shoulder straps that can be fastened in different ways at the back. Gathered seam at the waist, a concealed zip in one side and a softly draping, flared skirt. Unlined.', 'An image of clothing with name: Shirts, and description: Calf-length dress in an airy, patterned linen and viscose weave with wide, adjustable shoulder straps that can be fastened in different ways at the back. Gathered seam at the waist, a concealed zip in one side and a softly draping, flared skirt. Unlined.', 'An image of clothing with name: Trousers Denim, and description: Calf-length dress in an airy, patterned linen and viscose weave with wide, adjustable shoulder straps that can be fastened in different ways at the back. Gathered seam at the waist, a concealed zip in one side and a softly draping, flared skirt. Unlined.', 'An image of clothing with name: Knitwear, and description: Calf-length dress in an airy, patterned linen and viscose weave with wide, adjustable shoulder straps that can be fastened in different ways at the back. Gathered seam at the waist, a concealed zip in one side and a softly draping, flared skirt. Unlined.', 'An image of clothing with name: Dresses/Skirts girls, and description: Calf-length dress in an airy, patterned linen and viscose weave with wide, adjustable shoulder straps that can be fastened in different ways at the back. Gathered seam at the waist, a concealed zip in one side and a softly draping, flared skirt. Unlined.', 'An image of clothing with name: Shorts, and description: Calf-length dress in an airy, patterned linen and viscose weave with wide, adjustable shoulder straps that can be fastened in different ways at the back. Gathered seam at the waist, a concealed zip in one side and a softly draping, flared skirt. Unlined.', 'An image of clothing with name: Jersey Fancy, and description: Calf-length dress in an airy, patterned linen and viscose weave with wide, adjustable shoulder straps that can be fastened in different ways at the back. Gathered seam at the waist, a concealed zip in one side and a softly draping, flared skirt. Unlined.', 'An image of clothing with name: Accessories, and description: Calf-length dress in an airy, patterned linen and viscose weave with wide, adjustable shoulder straps that can be fastened in different ways at the back. Gathered seam at the waist, a concealed zip in one side and a softly draping, flared skirt. Unlined.', 'An image of clothing with name: Outdoor, and description: Calf-length dress in an airy, patterned linen and viscose weave with wide, adjustable shoulder straps that can be fastened in different ways at the back. Gathered seam at the waist, a concealed zip in one side and a softly draping, flared skirt. Unlined.', 'An image of clothing with name: Skirts, and description: Calf-length dress in an airy, patterned linen and viscose weave with wide, adjustable shoulder straps that can be fastened in different ways at the back. Gathered seam at the waist, a concealed zip in one side and a softly draping, flared skirt. Unlined.', 'An image of clothing with name: Socks and Tights, and description: Calf-length dress in an airy, patterned linen and viscose weave with wide, adjustable shoulder straps that can be fastened in different ways at the back. Gathered seam at the waist, a concealed zip in one side and a softly draping, flared skirt. Unlined.']\n"
     ]
    },
    {
     "name": "stderr",
     "output_type": "stream",
     "text": [
      " 13%|█▎        | 17/133 [01:20<07:31,  3.89s/it]"
     ]
    },
    {
     "name": "stdout",
     "output_type": "stream",
     "text": [
      "texts ['An image of clothing with name: Shoes, and description: Knee-length shorts in sturdy cotton twill with napped details. Button fly, side pockets, back pockets, a coin pocket and frayed, raw-edge hems.', 'An image of clothing with name: Jersey Basic, and description: Knee-length shorts in sturdy cotton twill with napped details. Button fly, side pockets, back pockets, a coin pocket and frayed, raw-edge hems.', 'An image of clothing with name: Swimwear, and description: Knee-length shorts in sturdy cotton twill with napped details. Button fly, side pockets, back pockets, a coin pocket and frayed, raw-edge hems.', 'An image of clothing with name: Dresses Ladies, and description: Knee-length shorts in sturdy cotton twill with napped details. Button fly, side pockets, back pockets, a coin pocket and frayed, raw-edge hems.', 'An image of clothing with name: Blouses, and description: Knee-length shorts in sturdy cotton twill with napped details. Button fly, side pockets, back pockets, a coin pocket and frayed, raw-edge hems.', 'An image of clothing with name: Dressed, and description: Knee-length shorts in sturdy cotton twill with napped details. Button fly, side pockets, back pockets, a coin pocket and frayed, raw-edge hems.', 'An image of clothing with name: Trousers, and description: Knee-length shorts in sturdy cotton twill with napped details. Button fly, side pockets, back pockets, a coin pocket and frayed, raw-edge hems.', 'An image of clothing with name: Under-, Nightwear, and description: Knee-length shorts in sturdy cotton twill with napped details. Button fly, side pockets, back pockets, a coin pocket and frayed, raw-edge hems.', 'An image of clothing with name: Shirts, and description: Knee-length shorts in sturdy cotton twill with napped details. Button fly, side pockets, back pockets, a coin pocket and frayed, raw-edge hems.', 'An image of clothing with name: Trousers Denim, and description: Knee-length shorts in sturdy cotton twill with napped details. Button fly, side pockets, back pockets, a coin pocket and frayed, raw-edge hems.', 'An image of clothing with name: Knitwear, and description: Knee-length shorts in sturdy cotton twill with napped details. Button fly, side pockets, back pockets, a coin pocket and frayed, raw-edge hems.', 'An image of clothing with name: Dresses/Skirts girls, and description: Knee-length shorts in sturdy cotton twill with napped details. Button fly, side pockets, back pockets, a coin pocket and frayed, raw-edge hems.', 'An image of clothing with name: Shorts, and description: Knee-length shorts in sturdy cotton twill with napped details. Button fly, side pockets, back pockets, a coin pocket and frayed, raw-edge hems.', 'An image of clothing with name: Jersey Fancy, and description: Knee-length shorts in sturdy cotton twill with napped details. Button fly, side pockets, back pockets, a coin pocket and frayed, raw-edge hems.', 'An image of clothing with name: Accessories, and description: Knee-length shorts in sturdy cotton twill with napped details. Button fly, side pockets, back pockets, a coin pocket and frayed, raw-edge hems.', 'An image of clothing with name: Outdoor, and description: Knee-length shorts in sturdy cotton twill with napped details. Button fly, side pockets, back pockets, a coin pocket and frayed, raw-edge hems.', 'An image of clothing with name: Skirts, and description: Knee-length shorts in sturdy cotton twill with napped details. Button fly, side pockets, back pockets, a coin pocket and frayed, raw-edge hems.', 'An image of clothing with name: Socks and Tights, and description: Knee-length shorts in sturdy cotton twill with napped details. Button fly, side pockets, back pockets, a coin pocket and frayed, raw-edge hems.']\n"
     ]
    },
    {
     "name": "stderr",
     "output_type": "stream",
     "text": [
      " 14%|█▎        | 18/133 [01:24<07:32,  3.93s/it]"
     ]
    },
    {
     "name": "stdout",
     "output_type": "stream",
     "text": [
      "texts ['An image of clothing with name: Shoes, and description: Trousers in a sturdy weave with a regular waist that is elasticated at the back, concealed hook-and-eye fasteners and a zip fly. Side pockets, a welt back pocket and tapered legs with contrasting colour stripes down the sides.', 'An image of clothing with name: Jersey Basic, and description: Trousers in a sturdy weave with a regular waist that is elasticated at the back, concealed hook-and-eye fasteners and a zip fly. Side pockets, a welt back pocket and tapered legs with contrasting colour stripes down the sides.', 'An image of clothing with name: Swimwear, and description: Trousers in a sturdy weave with a regular waist that is elasticated at the back, concealed hook-and-eye fasteners and a zip fly. Side pockets, a welt back pocket and tapered legs with contrasting colour stripes down the sides.', 'An image of clothing with name: Dresses Ladies, and description: Trousers in a sturdy weave with a regular waist that is elasticated at the back, concealed hook-and-eye fasteners and a zip fly. Side pockets, a welt back pocket and tapered legs with contrasting colour stripes down the sides.', 'An image of clothing with name: Blouses, and description: Trousers in a sturdy weave with a regular waist that is elasticated at the back, concealed hook-and-eye fasteners and a zip fly. Side pockets, a welt back pocket and tapered legs with contrasting colour stripes down the sides.', 'An image of clothing with name: Dressed, and description: Trousers in a sturdy weave with a regular waist that is elasticated at the back, concealed hook-and-eye fasteners and a zip fly. Side pockets, a welt back pocket and tapered legs with contrasting colour stripes down the sides.', 'An image of clothing with name: Trousers, and description: Trousers in a sturdy weave with a regular waist that is elasticated at the back, concealed hook-and-eye fasteners and a zip fly. Side pockets, a welt back pocket and tapered legs with contrasting colour stripes down the sides.', 'An image of clothing with name: Under-, Nightwear, and description: Trousers in a sturdy weave with a regular waist that is elasticated at the back, concealed hook-and-eye fasteners and a zip fly. Side pockets, a welt back pocket and tapered legs with contrasting colour stripes down the sides.', 'An image of clothing with name: Shirts, and description: Trousers in a sturdy weave with a regular waist that is elasticated at the back, concealed hook-and-eye fasteners and a zip fly. Side pockets, a welt back pocket and tapered legs with contrasting colour stripes down the sides.', 'An image of clothing with name: Trousers Denim, and description: Trousers in a sturdy weave with a regular waist that is elasticated at the back, concealed hook-and-eye fasteners and a zip fly. Side pockets, a welt back pocket and tapered legs with contrasting colour stripes down the sides.', 'An image of clothing with name: Knitwear, and description: Trousers in a sturdy weave with a regular waist that is elasticated at the back, concealed hook-and-eye fasteners and a zip fly. Side pockets, a welt back pocket and tapered legs with contrasting colour stripes down the sides.', 'An image of clothing with name: Dresses/Skirts girls, and description: Trousers in a sturdy weave with a regular waist that is elasticated at the back, concealed hook-and-eye fasteners and a zip fly. Side pockets, a welt back pocket and tapered legs with contrasting colour stripes down the sides.', 'An image of clothing with name: Shorts, and description: Trousers in a sturdy weave with a regular waist that is elasticated at the back, concealed hook-and-eye fasteners and a zip fly. Side pockets, a welt back pocket and tapered legs with contrasting colour stripes down the sides.', 'An image of clothing with name: Jersey Fancy, and description: Trousers in a sturdy weave with a regular waist that is elasticated at the back, concealed hook-and-eye fasteners and a zip fly. Side pockets, a welt back pocket and tapered legs with contrasting colour stripes down the sides.', 'An image of clothing with name: Accessories, and description: Trousers in a sturdy weave with a regular waist that is elasticated at the back, concealed hook-and-eye fasteners and a zip fly. Side pockets, a welt back pocket and tapered legs with contrasting colour stripes down the sides.', 'An image of clothing with name: Outdoor, and description: Trousers in a sturdy weave with a regular waist that is elasticated at the back, concealed hook-and-eye fasteners and a zip fly. Side pockets, a welt back pocket and tapered legs with contrasting colour stripes down the sides.', 'An image of clothing with name: Skirts, and description: Trousers in a sturdy weave with a regular waist that is elasticated at the back, concealed hook-and-eye fasteners and a zip fly. Side pockets, a welt back pocket and tapered legs with contrasting colour stripes down the sides.', 'An image of clothing with name: Socks and Tights, and description: Trousers in a sturdy weave with a regular waist that is elasticated at the back, concealed hook-and-eye fasteners and a zip fly. Side pockets, a welt back pocket and tapered legs with contrasting colour stripes down the sides.']\n"
     ]
    },
    {
     "name": "stderr",
     "output_type": "stream",
     "text": [
      " 14%|█▍        | 19/133 [01:28<07:28,  3.94s/it]"
     ]
    },
    {
     "name": "stdout",
     "output_type": "stream",
     "text": [
      "texts ['An image of clothing with name: Shoes, and description: Soft, non-wired nursing bra in organic cotton jersey with adjustable shoulder straps and padded, opening cups with space for nursing pads. Hook-and-eye fastening at the back and a lace trim at the hem. The cups are lined with fabric made from recycled polyester.', 'An image of clothing with name: Jersey Basic, and description: Soft, non-wired nursing bra in organic cotton jersey with adjustable shoulder straps and padded, opening cups with space for nursing pads. Hook-and-eye fastening at the back and a lace trim at the hem. The cups are lined with fabric made from recycled polyester.', 'An image of clothing with name: Swimwear, and description: Soft, non-wired nursing bra in organic cotton jersey with adjustable shoulder straps and padded, opening cups with space for nursing pads. Hook-and-eye fastening at the back and a lace trim at the hem. The cups are lined with fabric made from recycled polyester.', 'An image of clothing with name: Dresses Ladies, and description: Soft, non-wired nursing bra in organic cotton jersey with adjustable shoulder straps and padded, opening cups with space for nursing pads. Hook-and-eye fastening at the back and a lace trim at the hem. The cups are lined with fabric made from recycled polyester.', 'An image of clothing with name: Blouses, and description: Soft, non-wired nursing bra in organic cotton jersey with adjustable shoulder straps and padded, opening cups with space for nursing pads. Hook-and-eye fastening at the back and a lace trim at the hem. The cups are lined with fabric made from recycled polyester.', 'An image of clothing with name: Dressed, and description: Soft, non-wired nursing bra in organic cotton jersey with adjustable shoulder straps and padded, opening cups with space for nursing pads. Hook-and-eye fastening at the back and a lace trim at the hem. The cups are lined with fabric made from recycled polyester.', 'An image of clothing with name: Trousers, and description: Soft, non-wired nursing bra in organic cotton jersey with adjustable shoulder straps and padded, opening cups with space for nursing pads. Hook-and-eye fastening at the back and a lace trim at the hem. The cups are lined with fabric made from recycled polyester.', 'An image of clothing with name: Under-, Nightwear, and description: Soft, non-wired nursing bra in organic cotton jersey with adjustable shoulder straps and padded, opening cups with space for nursing pads. Hook-and-eye fastening at the back and a lace trim at the hem. The cups are lined with fabric made from recycled polyester.', 'An image of clothing with name: Shirts, and description: Soft, non-wired nursing bra in organic cotton jersey with adjustable shoulder straps and padded, opening cups with space for nursing pads. Hook-and-eye fastening at the back and a lace trim at the hem. The cups are lined with fabric made from recycled polyester.', 'An image of clothing with name: Trousers Denim, and description: Soft, non-wired nursing bra in organic cotton jersey with adjustable shoulder straps and padded, opening cups with space for nursing pads. Hook-and-eye fastening at the back and a lace trim at the hem. The cups are lined with fabric made from recycled polyester.', 'An image of clothing with name: Knitwear, and description: Soft, non-wired nursing bra in organic cotton jersey with adjustable shoulder straps and padded, opening cups with space for nursing pads. Hook-and-eye fastening at the back and a lace trim at the hem. The cups are lined with fabric made from recycled polyester.', 'An image of clothing with name: Dresses/Skirts girls, and description: Soft, non-wired nursing bra in organic cotton jersey with adjustable shoulder straps and padded, opening cups with space for nursing pads. Hook-and-eye fastening at the back and a lace trim at the hem. The cups are lined with fabric made from recycled polyester.', 'An image of clothing with name: Shorts, and description: Soft, non-wired nursing bra in organic cotton jersey with adjustable shoulder straps and padded, opening cups with space for nursing pads. Hook-and-eye fastening at the back and a lace trim at the hem. The cups are lined with fabric made from recycled polyester.', 'An image of clothing with name: Jersey Fancy, and description: Soft, non-wired nursing bra in organic cotton jersey with adjustable shoulder straps and padded, opening cups with space for nursing pads. Hook-and-eye fastening at the back and a lace trim at the hem. The cups are lined with fabric made from recycled polyester.', 'An image of clothing with name: Accessories, and description: Soft, non-wired nursing bra in organic cotton jersey with adjustable shoulder straps and padded, opening cups with space for nursing pads. Hook-and-eye fastening at the back and a lace trim at the hem. The cups are lined with fabric made from recycled polyester.', 'An image of clothing with name: Outdoor, and description: Soft, non-wired nursing bra in organic cotton jersey with adjustable shoulder straps and padded, opening cups with space for nursing pads. Hook-and-eye fastening at the back and a lace trim at the hem. The cups are lined with fabric made from recycled polyester.', 'An image of clothing with name: Skirts, and description: Soft, non-wired nursing bra in organic cotton jersey with adjustable shoulder straps and padded, opening cups with space for nursing pads. Hook-and-eye fastening at the back and a lace trim at the hem. The cups are lined with fabric made from recycled polyester.', 'An image of clothing with name: Socks and Tights, and description: Soft, non-wired nursing bra in organic cotton jersey with adjustable shoulder straps and padded, opening cups with space for nursing pads. Hook-and-eye fastening at the back and a lace trim at the hem. The cups are lined with fabric made from recycled polyester.']\n"
     ]
    },
    {
     "name": "stderr",
     "output_type": "stream",
     "text": [
      " 15%|█▌        | 20/133 [01:32<07:17,  3.87s/it]"
     ]
    },
    {
     "name": "stdout",
     "output_type": "stream",
     "text": [
      "texts ['An image of clothing with name: Shoes, and description: Wrapover pointelle bodysuits in soft organic cotton jersey with long sleeves and press-studs at the side and crotch.', 'An image of clothing with name: Jersey Basic, and description: Wrapover pointelle bodysuits in soft organic cotton jersey with long sleeves and press-studs at the side and crotch.', 'An image of clothing with name: Swimwear, and description: Wrapover pointelle bodysuits in soft organic cotton jersey with long sleeves and press-studs at the side and crotch.', 'An image of clothing with name: Dresses Ladies, and description: Wrapover pointelle bodysuits in soft organic cotton jersey with long sleeves and press-studs at the side and crotch.', 'An image of clothing with name: Blouses, and description: Wrapover pointelle bodysuits in soft organic cotton jersey with long sleeves and press-studs at the side and crotch.', 'An image of clothing with name: Dressed, and description: Wrapover pointelle bodysuits in soft organic cotton jersey with long sleeves and press-studs at the side and crotch.', 'An image of clothing with name: Trousers, and description: Wrapover pointelle bodysuits in soft organic cotton jersey with long sleeves and press-studs at the side and crotch.', 'An image of clothing with name: Under-, Nightwear, and description: Wrapover pointelle bodysuits in soft organic cotton jersey with long sleeves and press-studs at the side and crotch.', 'An image of clothing with name: Shirts, and description: Wrapover pointelle bodysuits in soft organic cotton jersey with long sleeves and press-studs at the side and crotch.', 'An image of clothing with name: Trousers Denim, and description: Wrapover pointelle bodysuits in soft organic cotton jersey with long sleeves and press-studs at the side and crotch.', 'An image of clothing with name: Knitwear, and description: Wrapover pointelle bodysuits in soft organic cotton jersey with long sleeves and press-studs at the side and crotch.', 'An image of clothing with name: Dresses/Skirts girls, and description: Wrapover pointelle bodysuits in soft organic cotton jersey with long sleeves and press-studs at the side and crotch.', 'An image of clothing with name: Shorts, and description: Wrapover pointelle bodysuits in soft organic cotton jersey with long sleeves and press-studs at the side and crotch.', 'An image of clothing with name: Jersey Fancy, and description: Wrapover pointelle bodysuits in soft organic cotton jersey with long sleeves and press-studs at the side and crotch.', 'An image of clothing with name: Accessories, and description: Wrapover pointelle bodysuits in soft organic cotton jersey with long sleeves and press-studs at the side and crotch.', 'An image of clothing with name: Outdoor, and description: Wrapover pointelle bodysuits in soft organic cotton jersey with long sleeves and press-studs at the side and crotch.', 'An image of clothing with name: Skirts, and description: Wrapover pointelle bodysuits in soft organic cotton jersey with long sleeves and press-studs at the side and crotch.', 'An image of clothing with name: Socks and Tights, and description: Wrapover pointelle bodysuits in soft organic cotton jersey with long sleeves and press-studs at the side and crotch.']\n"
     ]
    },
    {
     "name": "stderr",
     "output_type": "stream",
     "text": [
      " 16%|█▌        | 21/133 [01:36<07:12,  3.86s/it]"
     ]
    },
    {
     "name": "stdout",
     "output_type": "stream",
     "text": [
      "texts ['An image of clothing with name: Shoes, and description: Biker jacket in soft imitation leather with quilted details. Collar with a detachable faux fur layer on top, and press-studs on the lapels. Diagonal zip down the front, zipped side pockets and long sleeves with a zip at the cuffs. Lined.', 'An image of clothing with name: Jersey Basic, and description: Biker jacket in soft imitation leather with quilted details. Collar with a detachable faux fur layer on top, and press-studs on the lapels. Diagonal zip down the front, zipped side pockets and long sleeves with a zip at the cuffs. Lined.', 'An image of clothing with name: Swimwear, and description: Biker jacket in soft imitation leather with quilted details. Collar with a detachable faux fur layer on top, and press-studs on the lapels. Diagonal zip down the front, zipped side pockets and long sleeves with a zip at the cuffs. Lined.', 'An image of clothing with name: Dresses Ladies, and description: Biker jacket in soft imitation leather with quilted details. Collar with a detachable faux fur layer on top, and press-studs on the lapels. Diagonal zip down the front, zipped side pockets and long sleeves with a zip at the cuffs. Lined.', 'An image of clothing with name: Blouses, and description: Biker jacket in soft imitation leather with quilted details. Collar with a detachable faux fur layer on top, and press-studs on the lapels. Diagonal zip down the front, zipped side pockets and long sleeves with a zip at the cuffs. Lined.', 'An image of clothing with name: Dressed, and description: Biker jacket in soft imitation leather with quilted details. Collar with a detachable faux fur layer on top, and press-studs on the lapels. Diagonal zip down the front, zipped side pockets and long sleeves with a zip at the cuffs. Lined.', 'An image of clothing with name: Trousers, and description: Biker jacket in soft imitation leather with quilted details. Collar with a detachable faux fur layer on top, and press-studs on the lapels. Diagonal zip down the front, zipped side pockets and long sleeves with a zip at the cuffs. Lined.', 'An image of clothing with name: Under-, Nightwear, and description: Biker jacket in soft imitation leather with quilted details. Collar with a detachable faux fur layer on top, and press-studs on the lapels. Diagonal zip down the front, zipped side pockets and long sleeves with a zip at the cuffs. Lined.', 'An image of clothing with name: Shirts, and description: Biker jacket in soft imitation leather with quilted details. Collar with a detachable faux fur layer on top, and press-studs on the lapels. Diagonal zip down the front, zipped side pockets and long sleeves with a zip at the cuffs. Lined.', 'An image of clothing with name: Trousers Denim, and description: Biker jacket in soft imitation leather with quilted details. Collar with a detachable faux fur layer on top, and press-studs on the lapels. Diagonal zip down the front, zipped side pockets and long sleeves with a zip at the cuffs. Lined.', 'An image of clothing with name: Knitwear, and description: Biker jacket in soft imitation leather with quilted details. Collar with a detachable faux fur layer on top, and press-studs on the lapels. Diagonal zip down the front, zipped side pockets and long sleeves with a zip at the cuffs. Lined.', 'An image of clothing with name: Dresses/Skirts girls, and description: Biker jacket in soft imitation leather with quilted details. Collar with a detachable faux fur layer on top, and press-studs on the lapels. Diagonal zip down the front, zipped side pockets and long sleeves with a zip at the cuffs. Lined.', 'An image of clothing with name: Shorts, and description: Biker jacket in soft imitation leather with quilted details. Collar with a detachable faux fur layer on top, and press-studs on the lapels. Diagonal zip down the front, zipped side pockets and long sleeves with a zip at the cuffs. Lined.', 'An image of clothing with name: Jersey Fancy, and description: Biker jacket in soft imitation leather with quilted details. Collar with a detachable faux fur layer on top, and press-studs on the lapels. Diagonal zip down the front, zipped side pockets and long sleeves with a zip at the cuffs. Lined.', 'An image of clothing with name: Accessories, and description: Biker jacket in soft imitation leather with quilted details. Collar with a detachable faux fur layer on top, and press-studs on the lapels. Diagonal zip down the front, zipped side pockets and long sleeves with a zip at the cuffs. Lined.', 'An image of clothing with name: Outdoor, and description: Biker jacket in soft imitation leather with quilted details. Collar with a detachable faux fur layer on top, and press-studs on the lapels. Diagonal zip down the front, zipped side pockets and long sleeves with a zip at the cuffs. Lined.', 'An image of clothing with name: Skirts, and description: Biker jacket in soft imitation leather with quilted details. Collar with a detachable faux fur layer on top, and press-studs on the lapels. Diagonal zip down the front, zipped side pockets and long sleeves with a zip at the cuffs. Lined.', 'An image of clothing with name: Socks and Tights, and description: Biker jacket in soft imitation leather with quilted details. Collar with a detachable faux fur layer on top, and press-studs on the lapels. Diagonal zip down the front, zipped side pockets and long sleeves with a zip at the cuffs. Lined.']\n"
     ]
    },
    {
     "name": "stderr",
     "output_type": "stream",
     "text": [
      " 17%|█▋        | 22/133 [01:39<07:10,  3.88s/it]"
     ]
    },
    {
     "name": "stdout",
     "output_type": "stream",
     "text": [
      "texts ['An image of clothing with name: Shoes, and description: Padded gilet in woven fabric with an imitation leather yoke. Detachable, lined hood with a faux fur trim, stand-up collar, zip down the front with a chin guard, and front pockets with a press-stud. Lined.', 'An image of clothing with name: Jersey Basic, and description: Padded gilet in woven fabric with an imitation leather yoke. Detachable, lined hood with a faux fur trim, stand-up collar, zip down the front with a chin guard, and front pockets with a press-stud. Lined.', 'An image of clothing with name: Swimwear, and description: Padded gilet in woven fabric with an imitation leather yoke. Detachable, lined hood with a faux fur trim, stand-up collar, zip down the front with a chin guard, and front pockets with a press-stud. Lined.', 'An image of clothing with name: Dresses Ladies, and description: Padded gilet in woven fabric with an imitation leather yoke. Detachable, lined hood with a faux fur trim, stand-up collar, zip down the front with a chin guard, and front pockets with a press-stud. Lined.', 'An image of clothing with name: Blouses, and description: Padded gilet in woven fabric with an imitation leather yoke. Detachable, lined hood with a faux fur trim, stand-up collar, zip down the front with a chin guard, and front pockets with a press-stud. Lined.', 'An image of clothing with name: Dressed, and description: Padded gilet in woven fabric with an imitation leather yoke. Detachable, lined hood with a faux fur trim, stand-up collar, zip down the front with a chin guard, and front pockets with a press-stud. Lined.', 'An image of clothing with name: Trousers, and description: Padded gilet in woven fabric with an imitation leather yoke. Detachable, lined hood with a faux fur trim, stand-up collar, zip down the front with a chin guard, and front pockets with a press-stud. Lined.', 'An image of clothing with name: Under-, Nightwear, and description: Padded gilet in woven fabric with an imitation leather yoke. Detachable, lined hood with a faux fur trim, stand-up collar, zip down the front with a chin guard, and front pockets with a press-stud. Lined.', 'An image of clothing with name: Shirts, and description: Padded gilet in woven fabric with an imitation leather yoke. Detachable, lined hood with a faux fur trim, stand-up collar, zip down the front with a chin guard, and front pockets with a press-stud. Lined.', 'An image of clothing with name: Trousers Denim, and description: Padded gilet in woven fabric with an imitation leather yoke. Detachable, lined hood with a faux fur trim, stand-up collar, zip down the front with a chin guard, and front pockets with a press-stud. Lined.', 'An image of clothing with name: Knitwear, and description: Padded gilet in woven fabric with an imitation leather yoke. Detachable, lined hood with a faux fur trim, stand-up collar, zip down the front with a chin guard, and front pockets with a press-stud. Lined.', 'An image of clothing with name: Dresses/Skirts girls, and description: Padded gilet in woven fabric with an imitation leather yoke. Detachable, lined hood with a faux fur trim, stand-up collar, zip down the front with a chin guard, and front pockets with a press-stud. Lined.', 'An image of clothing with name: Shorts, and description: Padded gilet in woven fabric with an imitation leather yoke. Detachable, lined hood with a faux fur trim, stand-up collar, zip down the front with a chin guard, and front pockets with a press-stud. Lined.', 'An image of clothing with name: Jersey Fancy, and description: Padded gilet in woven fabric with an imitation leather yoke. Detachable, lined hood with a faux fur trim, stand-up collar, zip down the front with a chin guard, and front pockets with a press-stud. Lined.', 'An image of clothing with name: Accessories, and description: Padded gilet in woven fabric with an imitation leather yoke. Detachable, lined hood with a faux fur trim, stand-up collar, zip down the front with a chin guard, and front pockets with a press-stud. Lined.', 'An image of clothing with name: Outdoor, and description: Padded gilet in woven fabric with an imitation leather yoke. Detachable, lined hood with a faux fur trim, stand-up collar, zip down the front with a chin guard, and front pockets with a press-stud. Lined.', 'An image of clothing with name: Skirts, and description: Padded gilet in woven fabric with an imitation leather yoke. Detachable, lined hood with a faux fur trim, stand-up collar, zip down the front with a chin guard, and front pockets with a press-stud. Lined.', 'An image of clothing with name: Socks and Tights, and description: Padded gilet in woven fabric with an imitation leather yoke. Detachable, lined hood with a faux fur trim, stand-up collar, zip down the front with a chin guard, and front pockets with a press-stud. Lined.']\n"
     ]
    },
    {
     "name": "stderr",
     "output_type": "stream",
     "text": [
      " 17%|█▋        | 23/133 [01:43<07:07,  3.89s/it]"
     ]
    },
    {
     "name": "stdout",
     "output_type": "stream",
     "text": [
      "texts ['An image of clothing with name: Shoes, and description: Fully lined sports bra in fast-drying functional fabric with a racer back and moulded, padded cups that lift and shape while providing good support. Elasticated hem and a fastening at the back with two pairs of hooks and eyes. Medium support.', 'An image of clothing with name: Jersey Basic, and description: Fully lined sports bra in fast-drying functional fabric with a racer back and moulded, padded cups that lift and shape while providing good support. Elasticated hem and a fastening at the back with two pairs of hooks and eyes. Medium support.', 'An image of clothing with name: Swimwear, and description: Fully lined sports bra in fast-drying functional fabric with a racer back and moulded, padded cups that lift and shape while providing good support. Elasticated hem and a fastening at the back with two pairs of hooks and eyes. Medium support.', 'An image of clothing with name: Dresses Ladies, and description: Fully lined sports bra in fast-drying functional fabric with a racer back and moulded, padded cups that lift and shape while providing good support. Elasticated hem and a fastening at the back with two pairs of hooks and eyes. Medium support.', 'An image of clothing with name: Blouses, and description: Fully lined sports bra in fast-drying functional fabric with a racer back and moulded, padded cups that lift and shape while providing good support. Elasticated hem and a fastening at the back with two pairs of hooks and eyes. Medium support.', 'An image of clothing with name: Dressed, and description: Fully lined sports bra in fast-drying functional fabric with a racer back and moulded, padded cups that lift and shape while providing good support. Elasticated hem and a fastening at the back with two pairs of hooks and eyes. Medium support.', 'An image of clothing with name: Trousers, and description: Fully lined sports bra in fast-drying functional fabric with a racer back and moulded, padded cups that lift and shape while providing good support. Elasticated hem and a fastening at the back with two pairs of hooks and eyes. Medium support.', 'An image of clothing with name: Under-, Nightwear, and description: Fully lined sports bra in fast-drying functional fabric with a racer back and moulded, padded cups that lift and shape while providing good support. Elasticated hem and a fastening at the back with two pairs of hooks and eyes. Medium support.', 'An image of clothing with name: Shirts, and description: Fully lined sports bra in fast-drying functional fabric with a racer back and moulded, padded cups that lift and shape while providing good support. Elasticated hem and a fastening at the back with two pairs of hooks and eyes. Medium support.', 'An image of clothing with name: Trousers Denim, and description: Fully lined sports bra in fast-drying functional fabric with a racer back and moulded, padded cups that lift and shape while providing good support. Elasticated hem and a fastening at the back with two pairs of hooks and eyes. Medium support.', 'An image of clothing with name: Knitwear, and description: Fully lined sports bra in fast-drying functional fabric with a racer back and moulded, padded cups that lift and shape while providing good support. Elasticated hem and a fastening at the back with two pairs of hooks and eyes. Medium support.', 'An image of clothing with name: Dresses/Skirts girls, and description: Fully lined sports bra in fast-drying functional fabric with a racer back and moulded, padded cups that lift and shape while providing good support. Elasticated hem and a fastening at the back with two pairs of hooks and eyes. Medium support.', 'An image of clothing with name: Shorts, and description: Fully lined sports bra in fast-drying functional fabric with a racer back and moulded, padded cups that lift and shape while providing good support. Elasticated hem and a fastening at the back with two pairs of hooks and eyes. Medium support.', 'An image of clothing with name: Jersey Fancy, and description: Fully lined sports bra in fast-drying functional fabric with a racer back and moulded, padded cups that lift and shape while providing good support. Elasticated hem and a fastening at the back with two pairs of hooks and eyes. Medium support.', 'An image of clothing with name: Accessories, and description: Fully lined sports bra in fast-drying functional fabric with a racer back and moulded, padded cups that lift and shape while providing good support. Elasticated hem and a fastening at the back with two pairs of hooks and eyes. Medium support.', 'An image of clothing with name: Outdoor, and description: Fully lined sports bra in fast-drying functional fabric with a racer back and moulded, padded cups that lift and shape while providing good support. Elasticated hem and a fastening at the back with two pairs of hooks and eyes. Medium support.', 'An image of clothing with name: Skirts, and description: Fully lined sports bra in fast-drying functional fabric with a racer back and moulded, padded cups that lift and shape while providing good support. Elasticated hem and a fastening at the back with two pairs of hooks and eyes. Medium support.', 'An image of clothing with name: Socks and Tights, and description: Fully lined sports bra in fast-drying functional fabric with a racer back and moulded, padded cups that lift and shape while providing good support. Elasticated hem and a fastening at the back with two pairs of hooks and eyes. Medium support.']\n"
     ]
    },
    {
     "name": "stderr",
     "output_type": "stream",
     "text": [
      " 18%|█▊        | 24/133 [01:48<07:16,  4.01s/it]"
     ]
    },
    {
     "name": "stdout",
     "output_type": "stream",
     "text": [
      "texts ['An image of clothing with name: Shoes, and description: Bell-shaped skirt in soft cotton corduroy with covered elastication and a small frill trim at the waist and a gathered seam at the hem. Unlined.', 'An image of clothing with name: Jersey Basic, and description: Bell-shaped skirt in soft cotton corduroy with covered elastication and a small frill trim at the waist and a gathered seam at the hem. Unlined.', 'An image of clothing with name: Swimwear, and description: Bell-shaped skirt in soft cotton corduroy with covered elastication and a small frill trim at the waist and a gathered seam at the hem. Unlined.', 'An image of clothing with name: Dresses Ladies, and description: Bell-shaped skirt in soft cotton corduroy with covered elastication and a small frill trim at the waist and a gathered seam at the hem. Unlined.', 'An image of clothing with name: Blouses, and description: Bell-shaped skirt in soft cotton corduroy with covered elastication and a small frill trim at the waist and a gathered seam at the hem. Unlined.', 'An image of clothing with name: Dressed, and description: Bell-shaped skirt in soft cotton corduroy with covered elastication and a small frill trim at the waist and a gathered seam at the hem. Unlined.', 'An image of clothing with name: Trousers, and description: Bell-shaped skirt in soft cotton corduroy with covered elastication and a small frill trim at the waist and a gathered seam at the hem. Unlined.', 'An image of clothing with name: Under-, Nightwear, and description: Bell-shaped skirt in soft cotton corduroy with covered elastication and a small frill trim at the waist and a gathered seam at the hem. Unlined.', 'An image of clothing with name: Shirts, and description: Bell-shaped skirt in soft cotton corduroy with covered elastication and a small frill trim at the waist and a gathered seam at the hem. Unlined.', 'An image of clothing with name: Trousers Denim, and description: Bell-shaped skirt in soft cotton corduroy with covered elastication and a small frill trim at the waist and a gathered seam at the hem. Unlined.', 'An image of clothing with name: Knitwear, and description: Bell-shaped skirt in soft cotton corduroy with covered elastication and a small frill trim at the waist and a gathered seam at the hem. Unlined.', 'An image of clothing with name: Dresses/Skirts girls, and description: Bell-shaped skirt in soft cotton corduroy with covered elastication and a small frill trim at the waist and a gathered seam at the hem. Unlined.', 'An image of clothing with name: Shorts, and description: Bell-shaped skirt in soft cotton corduroy with covered elastication and a small frill trim at the waist and a gathered seam at the hem. Unlined.', 'An image of clothing with name: Jersey Fancy, and description: Bell-shaped skirt in soft cotton corduroy with covered elastication and a small frill trim at the waist and a gathered seam at the hem. Unlined.', 'An image of clothing with name: Accessories, and description: Bell-shaped skirt in soft cotton corduroy with covered elastication and a small frill trim at the waist and a gathered seam at the hem. Unlined.', 'An image of clothing with name: Outdoor, and description: Bell-shaped skirt in soft cotton corduroy with covered elastication and a small frill trim at the waist and a gathered seam at the hem. Unlined.', 'An image of clothing with name: Skirts, and description: Bell-shaped skirt in soft cotton corduroy with covered elastication and a small frill trim at the waist and a gathered seam at the hem. Unlined.', 'An image of clothing with name: Socks and Tights, and description: Bell-shaped skirt in soft cotton corduroy with covered elastication and a small frill trim at the waist and a gathered seam at the hem. Unlined.']\n"
     ]
    },
    {
     "name": "stderr",
     "output_type": "stream",
     "text": [
      " 19%|█▉        | 25/133 [01:52<07:20,  4.08s/it]"
     ]
    },
    {
     "name": "stdout",
     "output_type": "stream",
     "text": [
      "texts ['An image of clothing with name: Shoes, and description: Dungaree dress in cotton twill with adjustable straps with metal fasteners, buttons down the front and at the sides and front pockets.', 'An image of clothing with name: Jersey Basic, and description: Dungaree dress in cotton twill with adjustable straps with metal fasteners, buttons down the front and at the sides and front pockets.', 'An image of clothing with name: Swimwear, and description: Dungaree dress in cotton twill with adjustable straps with metal fasteners, buttons down the front and at the sides and front pockets.', 'An image of clothing with name: Dresses Ladies, and description: Dungaree dress in cotton twill with adjustable straps with metal fasteners, buttons down the front and at the sides and front pockets.', 'An image of clothing with name: Blouses, and description: Dungaree dress in cotton twill with adjustable straps with metal fasteners, buttons down the front and at the sides and front pockets.', 'An image of clothing with name: Dressed, and description: Dungaree dress in cotton twill with adjustable straps with metal fasteners, buttons down the front and at the sides and front pockets.', 'An image of clothing with name: Trousers, and description: Dungaree dress in cotton twill with adjustable straps with metal fasteners, buttons down the front and at the sides and front pockets.', 'An image of clothing with name: Under-, Nightwear, and description: Dungaree dress in cotton twill with adjustable straps with metal fasteners, buttons down the front and at the sides and front pockets.', 'An image of clothing with name: Shirts, and description: Dungaree dress in cotton twill with adjustable straps with metal fasteners, buttons down the front and at the sides and front pockets.', 'An image of clothing with name: Trousers Denim, and description: Dungaree dress in cotton twill with adjustable straps with metal fasteners, buttons down the front and at the sides and front pockets.', 'An image of clothing with name: Knitwear, and description: Dungaree dress in cotton twill with adjustable straps with metal fasteners, buttons down the front and at the sides and front pockets.', 'An image of clothing with name: Dresses/Skirts girls, and description: Dungaree dress in cotton twill with adjustable straps with metal fasteners, buttons down the front and at the sides and front pockets.', 'An image of clothing with name: Shorts, and description: Dungaree dress in cotton twill with adjustable straps with metal fasteners, buttons down the front and at the sides and front pockets.', 'An image of clothing with name: Jersey Fancy, and description: Dungaree dress in cotton twill with adjustable straps with metal fasteners, buttons down the front and at the sides and front pockets.', 'An image of clothing with name: Accessories, and description: Dungaree dress in cotton twill with adjustable straps with metal fasteners, buttons down the front and at the sides and front pockets.', 'An image of clothing with name: Outdoor, and description: Dungaree dress in cotton twill with adjustable straps with metal fasteners, buttons down the front and at the sides and front pockets.', 'An image of clothing with name: Skirts, and description: Dungaree dress in cotton twill with adjustable straps with metal fasteners, buttons down the front and at the sides and front pockets.', 'An image of clothing with name: Socks and Tights, and description: Dungaree dress in cotton twill with adjustable straps with metal fasteners, buttons down the front and at the sides and front pockets.']\n"
     ]
    },
    {
     "name": "stderr",
     "output_type": "stream",
     "text": [
      " 20%|█▉        | 26/133 [01:56<07:27,  4.18s/it]"
     ]
    },
    {
     "name": "stdout",
     "output_type": "stream",
     "text": [
      "texts ['An image of clothing with name: Shoes, and description: Small bag in embossed suede with a metal chain shoulder strap and flap with a magnetic fastener. Lined. Size 8x11x14 cm.', 'An image of clothing with name: Jersey Basic, and description: Small bag in embossed suede with a metal chain shoulder strap and flap with a magnetic fastener. Lined. Size 8x11x14 cm.', 'An image of clothing with name: Swimwear, and description: Small bag in embossed suede with a metal chain shoulder strap and flap with a magnetic fastener. Lined. Size 8x11x14 cm.', 'An image of clothing with name: Dresses Ladies, and description: Small bag in embossed suede with a metal chain shoulder strap and flap with a magnetic fastener. Lined. Size 8x11x14 cm.', 'An image of clothing with name: Blouses, and description: Small bag in embossed suede with a metal chain shoulder strap and flap with a magnetic fastener. Lined. Size 8x11x14 cm.', 'An image of clothing with name: Dressed, and description: Small bag in embossed suede with a metal chain shoulder strap and flap with a magnetic fastener. Lined. Size 8x11x14 cm.', 'An image of clothing with name: Trousers, and description: Small bag in embossed suede with a metal chain shoulder strap and flap with a magnetic fastener. Lined. Size 8x11x14 cm.', 'An image of clothing with name: Under-, Nightwear, and description: Small bag in embossed suede with a metal chain shoulder strap and flap with a magnetic fastener. Lined. Size 8x11x14 cm.', 'An image of clothing with name: Shirts, and description: Small bag in embossed suede with a metal chain shoulder strap and flap with a magnetic fastener. Lined. Size 8x11x14 cm.', 'An image of clothing with name: Trousers Denim, and description: Small bag in embossed suede with a metal chain shoulder strap and flap with a magnetic fastener. Lined. Size 8x11x14 cm.', 'An image of clothing with name: Knitwear, and description: Small bag in embossed suede with a metal chain shoulder strap and flap with a magnetic fastener. Lined. Size 8x11x14 cm.', 'An image of clothing with name: Dresses/Skirts girls, and description: Small bag in embossed suede with a metal chain shoulder strap and flap with a magnetic fastener. Lined. Size 8x11x14 cm.', 'An image of clothing with name: Shorts, and description: Small bag in embossed suede with a metal chain shoulder strap and flap with a magnetic fastener. Lined. Size 8x11x14 cm.', 'An image of clothing with name: Jersey Fancy, and description: Small bag in embossed suede with a metal chain shoulder strap and flap with a magnetic fastener. Lined. Size 8x11x14 cm.', 'An image of clothing with name: Accessories, and description: Small bag in embossed suede with a metal chain shoulder strap and flap with a magnetic fastener. Lined. Size 8x11x14 cm.', 'An image of clothing with name: Outdoor, and description: Small bag in embossed suede with a metal chain shoulder strap and flap with a magnetic fastener. Lined. Size 8x11x14 cm.', 'An image of clothing with name: Skirts, and description: Small bag in embossed suede with a metal chain shoulder strap and flap with a magnetic fastener. Lined. Size 8x11x14 cm.', 'An image of clothing with name: Socks and Tights, and description: Small bag in embossed suede with a metal chain shoulder strap and flap with a magnetic fastener. Lined. Size 8x11x14 cm.']\n"
     ]
    },
    {
     "name": "stderr",
     "output_type": "stream",
     "text": [
      " 20%|██        | 27/133 [02:00<07:07,  4.03s/it]"
     ]
    },
    {
     "name": "stdout",
     "output_type": "stream",
     "text": [
      "texts ['An image of clothing with name: Shoes, and description: Set with a vest top and shorts in soft cotton jersey. Vest top with a decorative knot detail on each shoulder strap and a print motif. Shorts with side pockets and covered elastication at the waist.', 'An image of clothing with name: Jersey Basic, and description: Set with a vest top and shorts in soft cotton jersey. Vest top with a decorative knot detail on each shoulder strap and a print motif. Shorts with side pockets and covered elastication at the waist.', 'An image of clothing with name: Swimwear, and description: Set with a vest top and shorts in soft cotton jersey. Vest top with a decorative knot detail on each shoulder strap and a print motif. Shorts with side pockets and covered elastication at the waist.', 'An image of clothing with name: Dresses Ladies, and description: Set with a vest top and shorts in soft cotton jersey. Vest top with a decorative knot detail on each shoulder strap and a print motif. Shorts with side pockets and covered elastication at the waist.', 'An image of clothing with name: Blouses, and description: Set with a vest top and shorts in soft cotton jersey. Vest top with a decorative knot detail on each shoulder strap and a print motif. Shorts with side pockets and covered elastication at the waist.', 'An image of clothing with name: Dressed, and description: Set with a vest top and shorts in soft cotton jersey. Vest top with a decorative knot detail on each shoulder strap and a print motif. Shorts with side pockets and covered elastication at the waist.', 'An image of clothing with name: Trousers, and description: Set with a vest top and shorts in soft cotton jersey. Vest top with a decorative knot detail on each shoulder strap and a print motif. Shorts with side pockets and covered elastication at the waist.', 'An image of clothing with name: Under-, Nightwear, and description: Set with a vest top and shorts in soft cotton jersey. Vest top with a decorative knot detail on each shoulder strap and a print motif. Shorts with side pockets and covered elastication at the waist.', 'An image of clothing with name: Shirts, and description: Set with a vest top and shorts in soft cotton jersey. Vest top with a decorative knot detail on each shoulder strap and a print motif. Shorts with side pockets and covered elastication at the waist.', 'An image of clothing with name: Trousers Denim, and description: Set with a vest top and shorts in soft cotton jersey. Vest top with a decorative knot detail on each shoulder strap and a print motif. Shorts with side pockets and covered elastication at the waist.', 'An image of clothing with name: Knitwear, and description: Set with a vest top and shorts in soft cotton jersey. Vest top with a decorative knot detail on each shoulder strap and a print motif. Shorts with side pockets and covered elastication at the waist.', 'An image of clothing with name: Dresses/Skirts girls, and description: Set with a vest top and shorts in soft cotton jersey. Vest top with a decorative knot detail on each shoulder strap and a print motif. Shorts with side pockets and covered elastication at the waist.', 'An image of clothing with name: Shorts, and description: Set with a vest top and shorts in soft cotton jersey. Vest top with a decorative knot detail on each shoulder strap and a print motif. Shorts with side pockets and covered elastication at the waist.', 'An image of clothing with name: Jersey Fancy, and description: Set with a vest top and shorts in soft cotton jersey. Vest top with a decorative knot detail on each shoulder strap and a print motif. Shorts with side pockets and covered elastication at the waist.', 'An image of clothing with name: Accessories, and description: Set with a vest top and shorts in soft cotton jersey. Vest top with a decorative knot detail on each shoulder strap and a print motif. Shorts with side pockets and covered elastication at the waist.', 'An image of clothing with name: Outdoor, and description: Set with a vest top and shorts in soft cotton jersey. Vest top with a decorative knot detail on each shoulder strap and a print motif. Shorts with side pockets and covered elastication at the waist.', 'An image of clothing with name: Skirts, and description: Set with a vest top and shorts in soft cotton jersey. Vest top with a decorative knot detail on each shoulder strap and a print motif. Shorts with side pockets and covered elastication at the waist.', 'An image of clothing with name: Socks and Tights, and description: Set with a vest top and shorts in soft cotton jersey. Vest top with a decorative knot detail on each shoulder strap and a print motif. Shorts with side pockets and covered elastication at the waist.']\n"
     ]
    },
    {
     "name": "stderr",
     "output_type": "stream",
     "text": [
      " 21%|██        | 28/133 [02:04<07:15,  4.15s/it]"
     ]
    },
    {
     "name": "stdout",
     "output_type": "stream",
     "text": [
      "texts ['An image of clothing with name: Shoes, and description: Set with an Alice band and tail in faux fur. Alice band with appliqués in the shape of ears on top. Padded tail with ribbons and a hook and loop fastening. Length of tail approx. 35 cm.', 'An image of clothing with name: Jersey Basic, and description: Set with an Alice band and tail in faux fur. Alice band with appliqués in the shape of ears on top. Padded tail with ribbons and a hook and loop fastening. Length of tail approx. 35 cm.', 'An image of clothing with name: Swimwear, and description: Set with an Alice band and tail in faux fur. Alice band with appliqués in the shape of ears on top. Padded tail with ribbons and a hook and loop fastening. Length of tail approx. 35 cm.', 'An image of clothing with name: Dresses Ladies, and description: Set with an Alice band and tail in faux fur. Alice band with appliqués in the shape of ears on top. Padded tail with ribbons and a hook and loop fastening. Length of tail approx. 35 cm.', 'An image of clothing with name: Blouses, and description: Set with an Alice band and tail in faux fur. Alice band with appliqués in the shape of ears on top. Padded tail with ribbons and a hook and loop fastening. Length of tail approx. 35 cm.', 'An image of clothing with name: Dressed, and description: Set with an Alice band and tail in faux fur. Alice band with appliqués in the shape of ears on top. Padded tail with ribbons and a hook and loop fastening. Length of tail approx. 35 cm.', 'An image of clothing with name: Trousers, and description: Set with an Alice band and tail in faux fur. Alice band with appliqués in the shape of ears on top. Padded tail with ribbons and a hook and loop fastening. Length of tail approx. 35 cm.', 'An image of clothing with name: Under-, Nightwear, and description: Set with an Alice band and tail in faux fur. Alice band with appliqués in the shape of ears on top. Padded tail with ribbons and a hook and loop fastening. Length of tail approx. 35 cm.', 'An image of clothing with name: Shirts, and description: Set with an Alice band and tail in faux fur. Alice band with appliqués in the shape of ears on top. Padded tail with ribbons and a hook and loop fastening. Length of tail approx. 35 cm.', 'An image of clothing with name: Trousers Denim, and description: Set with an Alice band and tail in faux fur. Alice band with appliqués in the shape of ears on top. Padded tail with ribbons and a hook and loop fastening. Length of tail approx. 35 cm.', 'An image of clothing with name: Knitwear, and description: Set with an Alice band and tail in faux fur. Alice band with appliqués in the shape of ears on top. Padded tail with ribbons and a hook and loop fastening. Length of tail approx. 35 cm.', 'An image of clothing with name: Dresses/Skirts girls, and description: Set with an Alice band and tail in faux fur. Alice band with appliqués in the shape of ears on top. Padded tail with ribbons and a hook and loop fastening. Length of tail approx. 35 cm.', 'An image of clothing with name: Shorts, and description: Set with an Alice band and tail in faux fur. Alice band with appliqués in the shape of ears on top. Padded tail with ribbons and a hook and loop fastening. Length of tail approx. 35 cm.', 'An image of clothing with name: Jersey Fancy, and description: Set with an Alice band and tail in faux fur. Alice band with appliqués in the shape of ears on top. Padded tail with ribbons and a hook and loop fastening. Length of tail approx. 35 cm.', 'An image of clothing with name: Accessories, and description: Set with an Alice band and tail in faux fur. Alice band with appliqués in the shape of ears on top. Padded tail with ribbons and a hook and loop fastening. Length of tail approx. 35 cm.', 'An image of clothing with name: Outdoor, and description: Set with an Alice band and tail in faux fur. Alice band with appliqués in the shape of ears on top. Padded tail with ribbons and a hook and loop fastening. Length of tail approx. 35 cm.', 'An image of clothing with name: Skirts, and description: Set with an Alice band and tail in faux fur. Alice band with appliqués in the shape of ears on top. Padded tail with ribbons and a hook and loop fastening. Length of tail approx. 35 cm.', 'An image of clothing with name: Socks and Tights, and description: Set with an Alice band and tail in faux fur. Alice band with appliqués in the shape of ears on top. Padded tail with ribbons and a hook and loop fastening. Length of tail approx. 35 cm.']\n"
     ]
    },
    {
     "name": "stderr",
     "output_type": "stream",
     "text": [
      " 21%|██        | 28/133 [02:07<07:56,  4.54s/it]\n"
     ]
    },
    {
     "ename": "KeyboardInterrupt",
     "evalue": "",
     "output_type": "error",
     "traceback": [
      "\u001b[0;31m---------------------------------------------------------------------------\u001b[0m",
      "\u001b[0;31mKeyboardInterrupt\u001b[0m                         Traceback (most recent call last)",
      "Cell \u001b[0;32mIn[54], line 13\u001b[0m\n\u001b[1;32m     10\u001b[0m     utils\u001b[38;5;241m.\u001b[39mconfussion_matrix(all_labels, all_predictions, \u001b[38;5;28mlist\u001b[39m(dataloaders[\u001b[38;5;124m'\u001b[39m\u001b[38;5;124mtest\u001b[39m\u001b[38;5;124m'\u001b[39m]\u001b[38;5;241m.\u001b[39mdataset\u001b[38;5;241m.\u001b[39mclasses),F1\u001b[38;5;241m=\u001b[39m\u001b[38;5;28;01mFalse\u001b[39;00m)\n\u001b[1;32m     11\u001b[0m     \u001b[38;5;28;01mreturn\u001b[39;00m acc\n\u001b[0;32m---> 13\u001b[0m acc \u001b[38;5;241m=\u001b[39m \u001b[43mbaseline\u001b[49m\u001b[43m(\u001b[49m\u001b[43mdataloaders\u001b[49m\u001b[43m,\u001b[49m\u001b[43m \u001b[49m\u001b[38;5;124;43m'\u001b[39;49m\u001b[38;5;124;43m'\u001b[39;49m\u001b[43m)\u001b[49m\n\u001b[1;32m     14\u001b[0m \u001b[38;5;28mprint\u001b[39m(\u001b[38;5;124mf\u001b[39m\u001b[38;5;124m\"\u001b[39m\u001b[38;5;124mAccuracy of baseline is \u001b[39m\u001b[38;5;132;01m{\u001b[39;00macc\u001b[38;5;132;01m:\u001b[39;00m\u001b[38;5;124m.2f\u001b[39m\u001b[38;5;132;01m}\u001b[39;00m\u001b[38;5;124m %\u001b[39m\u001b[38;5;124m\"\u001b[39m)\n",
      "Cell \u001b[0;32mIn[54], line 9\u001b[0m, in \u001b[0;36mbaseline\u001b[0;34m(dataloaders, add)\u001b[0m\n\u001b[1;32m      7\u001b[0m ft\u001b[38;5;241m.\u001b[39mtt[\u001b[38;5;124m'\u001b[39m\u001b[38;5;124msoft\u001b[39m\u001b[38;5;124m'\u001b[39m], ft\u001b[38;5;241m.\u001b[39mtt[\u001b[38;5;124m'\u001b[39m\u001b[38;5;124mLoRA\u001b[39m\u001b[38;5;124m'\u001b[39m] \u001b[38;5;241m=\u001b[39m \u001b[38;5;241m0\u001b[39m, \u001b[38;5;241m0\u001b[39m \u001b[38;5;66;03m#baseline\u001b[39;00m\n\u001b[1;32m      8\u001b[0m ft\u001b[38;5;241m.\u001b[39minitialize({\u001b[38;5;124m'\u001b[39m\u001b[38;5;124madd\u001b[39m\u001b[38;5;124m'\u001b[39m:add}, \u001b[38;5;28;01mFalse\u001b[39;00m)\n\u001b[0;32m----> 9\u001b[0m all_predictions, all_labels, acc \u001b[38;5;241m=\u001b[39m \u001b[43mft\u001b[49m\u001b[38;5;241;43m.\u001b[39;49m\u001b[43meval\u001b[49m\u001b[43m(\u001b[49m\u001b[38;5;28;43;01mFalse\u001b[39;49;00m\u001b[43m)\u001b[49m\n\u001b[1;32m     10\u001b[0m utils\u001b[38;5;241m.\u001b[39mconfussion_matrix(all_labels, all_predictions, \u001b[38;5;28mlist\u001b[39m(dataloaders[\u001b[38;5;124m'\u001b[39m\u001b[38;5;124mtest\u001b[39m\u001b[38;5;124m'\u001b[39m]\u001b[38;5;241m.\u001b[39mdataset\u001b[38;5;241m.\u001b[39mclasses),F1\u001b[38;5;241m=\u001b[39m\u001b[38;5;28;01mFalse\u001b[39;00m)\n\u001b[1;32m     11\u001b[0m \u001b[38;5;28;01mreturn\u001b[39;00m acc\n",
      "File \u001b[0;32m~/Documents/kth/ds-proj/DD2430_Project/src/training.py:133\u001b[0m, in \u001b[0;36mFinetuneCLIP.eval\u001b[0;34m(self, show_image)\u001b[0m\n\u001b[1;32m    131\u001b[0m \u001b[38;5;28;01mfor\u001b[39;00m batch_nr, (image_embeds, article_ids, feature, detail_desc) \u001b[38;5;129;01min\u001b[39;00m \u001b[38;5;28menumerate\u001b[39m(tqdm(\u001b[38;5;28mself\u001b[39m\u001b[38;5;241m.\u001b[39mdataloaders[\u001b[38;5;124m'\u001b[39m\u001b[38;5;124mtest\u001b[39m\u001b[38;5;124m'\u001b[39m])):\n\u001b[1;32m    132\u001b[0m     batch_class_weights \u001b[38;5;241m=\u001b[39m \u001b[38;5;28mself\u001b[39m\u001b[38;5;241m.\u001b[39mget_class_weights(feature)\n\u001b[0;32m--> 133\u001b[0m     logits_per_image, _ \u001b[38;5;241m=\u001b[39m \u001b[38;5;28;43mself\u001b[39;49m\u001b[38;5;241;43m.\u001b[39;49m\u001b[43mforward\u001b[49m\u001b[43m(\u001b[49m\n\u001b[1;32m    134\u001b[0m \u001b[43m        \u001b[49m\u001b[43mimage_embeds\u001b[49m\u001b[43m,\u001b[49m\n\u001b[1;32m    135\u001b[0m \u001b[43m        \u001b[49m\u001b[38;5;28;43mself\u001b[39;49m\u001b[38;5;241;43m.\u001b[39;49m\u001b[43mdataloaders\u001b[49m\u001b[43m[\u001b[49m\u001b[38;5;124;43m'\u001b[39;49m\u001b[38;5;124;43mtest\u001b[39;49m\u001b[38;5;124;43m'\u001b[39;49m\u001b[43m]\u001b[49m\u001b[38;5;241;43m.\u001b[39;49m\u001b[43mdataset\u001b[49m\u001b[38;5;241;43m.\u001b[39;49m\u001b[43mclasses\u001b[49m\u001b[43m,\u001b[49m\n\u001b[1;32m    136\u001b[0m \u001b[43m        \u001b[49m\u001b[38;5;28;43mself\u001b[39;49m\u001b[38;5;241;43m.\u001b[39;49m\u001b[43mconf\u001b[49m\u001b[43m[\u001b[49m\u001b[38;5;124;43m'\u001b[39;49m\u001b[38;5;124;43mbalanced\u001b[39;49m\u001b[38;5;124;43m'\u001b[39;49m\u001b[43m]\u001b[49m\u001b[43m,\u001b[49m\n\u001b[1;32m    137\u001b[0m \u001b[43m        \u001b[49m\u001b[43mclass_weights\u001b[49m\u001b[38;5;241;43m=\u001b[39;49m\u001b[43mbatch_class_weights\u001b[49m\u001b[43m,\u001b[49m\n\u001b[1;32m    138\u001b[0m \u001b[43m        \u001b[49m\u001b[43mdescriptions\u001b[49m\u001b[38;5;241;43m=\u001b[39;49m\u001b[43mdetail_desc\u001b[49m\u001b[43m,\u001b[49m\u001b[43m \u001b[49m\n\u001b[1;32m    139\u001b[0m \u001b[43m        \u001b[49m\u001b[43m)\u001b[49m\n\u001b[1;32m    141\u001b[0m     predicted_class \u001b[38;5;241m=\u001b[39m logits_per_image\u001b[38;5;241m.\u001b[39margmax(dim\u001b[38;5;241m=\u001b[39m\u001b[38;5;241m-\u001b[39m\u001b[38;5;241m1\u001b[39m)\n\u001b[1;32m    142\u001b[0m     all_predictions\u001b[38;5;241m.\u001b[39mappend(predicted_class)\n",
      "File \u001b[0;32m~/Documents/kth/ds-proj/DD2430_Project/src/training.py:94\u001b[0m, in \u001b[0;36mFinetuneCLIP.forward\u001b[0;34m(self, image_embeds, labels, balanced, class_weights, descriptions)\u001b[0m\n\u001b[1;32m     92\u001b[0m     embs \u001b[38;5;241m=\u001b[39m []\n\u001b[1;32m     93\u001b[0m     \u001b[38;5;28;01mfor\u001b[39;00m text \u001b[38;5;129;01min\u001b[39;00m texts:\n\u001b[0;32m---> 94\u001b[0m         embs\u001b[38;5;241m.\u001b[39mappend(\u001b[43mmodel_functions\u001b[49m\u001b[38;5;241;43m.\u001b[39;49m\u001b[43mget_text_emb\u001b[49m\u001b[43m(\u001b[49m\n\u001b[1;32m     95\u001b[0m \u001b[43m            \u001b[49m\u001b[38;5;28;43mself\u001b[39;49m\u001b[38;5;241;43m.\u001b[39;49m\u001b[43mclip\u001b[49m\u001b[43m[\u001b[49m\u001b[38;5;124;43m'\u001b[39;49m\u001b[38;5;124;43mm\u001b[39;49m\u001b[38;5;124;43m'\u001b[39;49m\u001b[43m]\u001b[49m\u001b[43m,\u001b[49m\u001b[43m \u001b[49m\u001b[38;5;28;43mself\u001b[39;49m\u001b[38;5;241;43m.\u001b[39;49m\u001b[43mclip\u001b[49m\u001b[43m[\u001b[49m\u001b[38;5;124;43m'\u001b[39;49m\u001b[38;5;124;43mp\u001b[39;49m\u001b[38;5;124;43m'\u001b[39;49m\u001b[43m]\u001b[49m\u001b[43m,\u001b[49m\u001b[43m \u001b[49m\u001b[43mtext\u001b[49m\u001b[43m)\u001b[49m)\n\u001b[1;32m     96\u001b[0m     text_embeds \u001b[38;5;241m=\u001b[39m torch\u001b[38;5;241m.\u001b[39mcat(embs)\n\u001b[1;32m     97\u001b[0m \u001b[38;5;28;01melse\u001b[39;00m:\n",
      "File \u001b[0;32m~/Documents/kth/ds-proj/DD2430_Project/src/model_functions.py:115\u001b[0m, in \u001b[0;36mget_text_emb\u001b[0;34m(model, processor, text, normalize)\u001b[0m\n\u001b[1;32m    112\u001b[0m tokenized_text \u001b[38;5;241m=\u001b[39m text_tokenizer(\n\u001b[1;32m    113\u001b[0m     text, return_tensors\u001b[38;5;241m=\u001b[39m\u001b[38;5;124m'\u001b[39m\u001b[38;5;124mpt\u001b[39m\u001b[38;5;124m'\u001b[39m, padding\u001b[38;5;241m=\u001b[39m\u001b[38;5;28;01mTrue\u001b[39;00m, truncation\u001b[38;5;241m=\u001b[39m\u001b[38;5;28;01mTrue\u001b[39;00m)\n\u001b[1;32m    114\u001b[0m \u001b[38;5;66;03m# apply TRANSFORMER and project to latent space  dim [batch, 512]\u001b[39;00m\n\u001b[0;32m--> 115\u001b[0m text_latent \u001b[38;5;241m=\u001b[39m text_model(\u001b[38;5;241m*\u001b[39m\u001b[38;5;241m*\u001b[39m\u001b[43mtokenized_text\u001b[49m\u001b[38;5;241;43m.\u001b[39;49m\u001b[43mto\u001b[49m\u001b[43m(\u001b[49m\u001b[43mmodel\u001b[49m\u001b[38;5;241;43m.\u001b[39;49m\u001b[43mdevice\u001b[49m\u001b[43m)\u001b[49m)[\u001b[38;5;241m1\u001b[39m]\n\u001b[1;32m    116\u001b[0m \u001b[38;5;66;03m# project to same dim as text emb by FC layer [batch, 512] unneccessary???\u001b[39;00m\n\u001b[1;32m    117\u001b[0m \u001b[38;5;66;03m# [batch, 512] to [batch, 512] same\u001b[39;00m\n\u001b[1;32m    118\u001b[0m text_embeds \u001b[38;5;241m=\u001b[39m text_projection(text_latent)\n",
      "File \u001b[0;32m/opt/homebrew/Caskroom/miniconda/base/envs/ds-proj/lib/python3.12/site-packages/transformers/tokenization_utils_base.py:816\u001b[0m, in \u001b[0;36mBatchEncoding.to\u001b[0;34m(self, device)\u001b[0m\n\u001b[1;32m    812\u001b[0m \u001b[38;5;66;03m# This check catches things like APEX blindly calling \"to\" on all inputs to a module\u001b[39;00m\n\u001b[1;32m    813\u001b[0m \u001b[38;5;66;03m# Otherwise it passes the casts down and casts the LongTensor containing the token idxs\u001b[39;00m\n\u001b[1;32m    814\u001b[0m \u001b[38;5;66;03m# into a HalfTensor\u001b[39;00m\n\u001b[1;32m    815\u001b[0m \u001b[38;5;28;01mif\u001b[39;00m \u001b[38;5;28misinstance\u001b[39m(device, \u001b[38;5;28mstr\u001b[39m) \u001b[38;5;129;01mor\u001b[39;00m is_torch_device(device) \u001b[38;5;129;01mor\u001b[39;00m \u001b[38;5;28misinstance\u001b[39m(device, \u001b[38;5;28mint\u001b[39m):\n\u001b[0;32m--> 816\u001b[0m     \u001b[38;5;28mself\u001b[39m\u001b[38;5;241m.\u001b[39mdata \u001b[38;5;241m=\u001b[39m {k: \u001b[43mv\u001b[49m\u001b[38;5;241;43m.\u001b[39;49m\u001b[43mto\u001b[49m\u001b[43m(\u001b[49m\u001b[43mdevice\u001b[49m\u001b[38;5;241;43m=\u001b[39;49m\u001b[43mdevice\u001b[49m\u001b[43m)\u001b[49m \u001b[38;5;28;01mfor\u001b[39;00m k, v \u001b[38;5;129;01min\u001b[39;00m \u001b[38;5;28mself\u001b[39m\u001b[38;5;241m.\u001b[39mdata\u001b[38;5;241m.\u001b[39mitems() \u001b[38;5;28;01mif\u001b[39;00m v \u001b[38;5;129;01mis\u001b[39;00m \u001b[38;5;129;01mnot\u001b[39;00m \u001b[38;5;28;01mNone\u001b[39;00m}\n\u001b[1;32m    817\u001b[0m \u001b[38;5;28;01melse\u001b[39;00m:\n\u001b[1;32m    818\u001b[0m     logger\u001b[38;5;241m.\u001b[39mwarning(\u001b[38;5;124mf\u001b[39m\u001b[38;5;124m\"\u001b[39m\u001b[38;5;124mAttempting to cast a BatchEncoding to type \u001b[39m\u001b[38;5;132;01m{\u001b[39;00m\u001b[38;5;28mstr\u001b[39m(device)\u001b[38;5;132;01m}\u001b[39;00m\u001b[38;5;124m. This is not supported.\u001b[39m\u001b[38;5;124m\"\u001b[39m)\n",
      "\u001b[0;31mKeyboardInterrupt\u001b[0m: "
     ]
    }
   ],
   "source": [
    "update()\n",
    "BALANCED = False\n",
    "def baseline(dataloaders, add):\n",
    "    clip = {'m':model, 'p':processor}\n",
    "    ft = training.FinetuneCLIP(dataloaders, clip)\n",
    "    ft.conf = {'epochs': 400, 'balanced':BALANCED}\n",
    "    ft.tt['soft'], ft.tt['LoRA'], ft.tt['desc'] = 0, 0, 1 #baseline\n",
    "    ft.initialize({'add':add}, False)\n",
    "    all_predictions, all_labels, acc = ft.eval(False)\n",
    "    utils.confussion_matrix(all_labels, all_predictions, list(dataloaders['test'].dataset.classes),F1=False)\n",
    "    return acc\n",
    "\n",
    "acc = baseline(dataloaders, '')\n",
    "print(f\"Accuracy of baseline is {acc:.2f} %\")"
   ]
  }
 ],
 "metadata": {
  "accelerator": "GPU",
  "colab": {
   "gpuType": "T4",
   "include_colab_link": true,
   "provenance": []
  },
  "environment": {
   "kernel": "conda-base-py",
   "name": "workbench-notebooks.m125",
   "type": "gcloud",
   "uri": "us-docker.pkg.dev/deeplearning-platform-release/gcr.io/workbench-notebooks:m125"
  },
  "kernelspec": {
   "display_name": "ds-proj",
   "language": "python",
   "name": "python3"
  },
  "language_info": {
   "codemirror_mode": {
    "name": "ipython",
    "version": 3
   },
   "file_extension": ".py",
   "mimetype": "text/x-python",
   "name": "python",
   "nbconvert_exporter": "python",
   "pygments_lexer": "ipython3",
   "version": "3.12.2"
  }
 },
 "nbformat": 4,
 "nbformat_minor": 4
}
