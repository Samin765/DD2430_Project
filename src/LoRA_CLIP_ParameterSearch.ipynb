{
  "cells": [
    {
      "cell_type": "markdown",
      "metadata": {
        "id": "2INOXSFL9vte"
      },
      "source": [
        "# Constants\n",
        "Change these to fit your needs"
      ]
    },
    {
      "cell_type": "code",
      "execution_count": 1,
      "metadata": {
        "id": "bSDTu4h97TFF"
      },
      "outputs": [],
      "source": [
        "# Are you developing locally or on google colab?\n",
        "COLAB = True\n",
        "\n",
        "# path kaggle will download to\n",
        "HM_DATA_PATH = \"/content/drive/MyDrive/dd2430/data/\" if COLAB else \"./data/\"\n",
        "\n",
        "# path tourch.save and .load will use\n",
        "PTH_SAVE_PATH = \"/content/drive/MyDrive/dd2430/pth/\" if COLAB else \"./pth/\"\n",
        "\n",
        "load_direct = True\n",
        "if load_direct is True:\n",
        "  HM_DATA_PATH, PTH_SAVE_PATH= '', '/content/'\n",
        "\n",
        "# False if you have already downloaded once\n",
        "DOWNLOAD_FROM_KAGGLE = False\n",
        "\n",
        "# False if you have already created and saved a .pth file to PTH_SAVE_PATH\n",
        "CREATE_NEW_DATASET = False\n",
        "\n",
        "# train, test, val set size. Should sum to 1\n",
        "SET_SIZES = {\n",
        "    \"train\": 0.8,\n",
        "    \"test\": 0.1,\n",
        "    \"val\": 0.1,\n",
        "}\n",
        "\n",
        "# samples per class in uniform dataset\n",
        "N_SAMPLES = 500"
      ]
    },
    {
      "cell_type": "code",
      "execution_count": null,
      "metadata": {
        "id": "j5XzRiq_APjl"
      },
      "outputs": [],
      "source": [
        "from google.colab import drive\n",
        "drive.mount('/content/drive')"
      ]
    },
    {
      "cell_type": "markdown",
      "metadata": {
        "id": "qpJXUgcT97sz"
      },
      "source": [
        "# Imports"
      ]
    },
    {
      "cell_type": "code",
      "execution_count": null,
      "metadata": {
        "id": "zPOBAjDlInvv"
      },
      "outputs": [],
      "source": [
        "import os\n",
        "import random\n",
        "import numpy as np\n",
        "from tqdm import tqdm\n",
        "import importlib\n",
        "import gdown\n",
        "import numpy as np\n",
        "from sklearn.metrics import classification_report\n",
        "import seaborn as sns\n",
        "from sklearn.metrics import confusion_matrix\n",
        "import matplotlib.pyplot as plt\n",
        "\n",
        "import torch\n",
        "import torch.nn as nn\n",
        "from torch.utils.data import DataLoader\n",
        "\n",
        "import transformers\n",
        "if COLAB:\n",
        "    from google.colab import files, drive\n",
        "    #!pip install git\n",
        "    #!git clone https://[ADD PERSONAL ACCESS TOKEN]@github.com/Samin765/DD2430_Project.git\n",
        "    !git clone https://github.com/Samin765/DD2430_Project.git\n",
        "\n",
        "    #to pull down all files\n",
        "    !mv -v /content/DD2430_Project/* /content/\n"
      ]
    },
    {
      "cell_type": "code",
      "execution_count": 4,
      "metadata": {
        "colab": {
          "base_uri": "https://localhost:8080/"
        },
        "id": "Ou5QvXmt3_Kr",
        "outputId": "ad40a5d8-411f-4343-aa81-60441ed189c5"
      },
      "outputs": [
        {
          "output_type": "stream",
          "name": "stdout",
          "text": [
            "Using device:  cuda\n"
          ]
        }
      ],
      "source": [
        "device = 'cpu'\n",
        "if torch.cuda.is_available():\n",
        "    device = 'cuda'\n",
        "if torch.backends.mps.is_available(): # For apple silicon\n",
        "    device = 'mps'\n",
        "\n",
        "print(\"Using device: \", device)"
      ]
    },
    {
      "cell_type": "markdown",
      "metadata": {
        "id": "fJAyjnhi-Azx"
      },
      "source": [
        "# Download data"
      ]
    },
    {
      "cell_type": "code",
      "execution_count": null,
      "metadata": {
        "id": "MbDLguV7cAUV"
      },
      "outputs": [],
      "source": [
        "if DOWNLOAD_FROM_KAGGLE:\n",
        "    !pip install kaggle\n",
        "    files.upload()\n",
        "\n",
        "    os.makedirs('/root/.kaggle', exist_ok=True)\n",
        "    !cp kaggle.json /root/.kaggle/\n",
        "    !chmod 600 /root/.kaggle/kaggle.json\n",
        "\n",
        "    %cd HM_DATA_PATH\n",
        "\n",
        "    !kaggle competitions download -c h-and-m-personalized-fashion-recommendations\n"
      ]
    },
    {
      "cell_type": "code",
      "execution_count": null,
      "metadata": {
        "id": "RAoFqqa2E_XB"
      },
      "outputs": [],
      "source": [
        "if DOWNLOAD_FROM_KAGGLE:\n",
        "    !unzip -q h-and-m-personalized-fashion-recommendations.zip"
      ]
    },
    {
      "cell_type": "markdown",
      "metadata": {
        "id": "VdQe6TDNGX4K"
      },
      "source": [
        "#Dataset"
      ]
    },
    {
      "cell_type": "markdown",
      "metadata": {
        "id": "3UAgJdAxAOLv"
      },
      "source": [
        "## Create new dataset\n",
        "This will create a new dataset and save it as a .pth to google drive. If you getan error, then it is most likely becuase you can not make a daatset that large."
      ]
    },
    {
      "cell_type": "code",
      "execution_count": null,
      "metadata": {
        "id": "XOPl3OzJMadt"
      },
      "outputs": [],
      "source": [
        "import datasets\n",
        "importlib.reload(datasets)\n",
        "\n",
        "if CREATE_NEW_DATASET:\n",
        "    dataset = datasets.HMDataset2(\n",
        "        articles_csv = HM_DATA_PATH + 'articles.csv',\n",
        "        image_dir = HM_DATA_PATH + 'images',\n",
        "        main_class = 'garment_group_name',\n",
        "        model = transformers.CLIPModel.from_pretrained(\"openai/clip-vit-base-patch32\").to(device),\n",
        "        processor = transformers.CLIPProcessor.from_pretrained(\"openai/clip-vit-base-patch32\")\n",
        "    )\n",
        "    # data per class\n",
        "    n_samples =  N_SAMPLES\n",
        "\n",
        "    assert dataset.articles[dataset.main_class].value_counts().min()>n_samples, 'Can not make balanced set'\n",
        "\n",
        "    # you can also set all to n_samples then set the ones you want to 0\n",
        "    for exclude_subclass in ['Unknown', 'Special Offers', 'some other']:\n",
        "        dataset.counts[exclude_subclass]=n_samples\n",
        "\n",
        "    # Create uniform dataset\n",
        "    image_emb, labels, images = dataset.get_n_of_each(n_samples)\n",
        "\n",
        "    data_to_save = {\n",
        "        'image_embedding': image_emb,\n",
        "        'class_text': labels,\n",
        "        'images': images,\n",
        "    }\n",
        "    os.makedirs(PTH_SAVE_PATH, exist_ok=True)\n",
        "    torch.save(data_to_save, f'{PTH_SAVE_PATH}HM_data_{n_samples}.pth')"
      ]
    },
    {
      "cell_type": "code",
      "execution_count": null,
      "metadata": {
        "id": "Um0bDZVzTYue"
      },
      "outputs": [],
      "source": [
        "def save_to_drive(data, n_samples):\n",
        "    \"\"\"Save the dataset you created to drive\"\"\"\n",
        "    from google.colab import drive\n",
        "    drive.mount('/content/drive')\n",
        "    torch.save(data, f'/content/drive/My Drive/Skola/HM_data_{n_samples}.pth')\n",
        "save_to_drive(data_to_save, N_SAMPLES)"
      ]
    },
    {
      "cell_type": "markdown",
      "metadata": {
        "id": "0qGqNs0B_Ek-"
      },
      "source": [
        "## Load dataset\n",
        "If you already have the HM data and .pth saved in google drive, this is where the actual code/program begins.\n",
        "\n",
        "Remember to change the constants at the top so you don't download and/or create a new dataset next time."
      ]
    },
    {
      "cell_type": "code",
      "execution_count": null,
      "metadata": {
        "id": "P3U1Tr3yMHGb",
        "collapsed": true
      },
      "outputs": [],
      "source": [
        "def load_from_private_drive():\n",
        "    \"\"\"If you have it locally\"\"\"\n",
        "    #drive.mount('/content/drive')\n",
        "    n_samples = N_SAMPLES\n",
        "    file_to_load = f\"HM_data_{n_samples}.pth\"\n",
        "\n",
        "    loaded_data = torch.load(f'/content/drive/MyDrive/Skola/{file_to_load}')\n",
        "\n",
        "    image_emb = loaded_data['image_embedding']\n",
        "    labels = loaded_data['class_text']\n",
        "    images = loaded_data['images']\n",
        "\n",
        "    #dataset = UniformHMDataset(image_emb, labels , images)\n",
        "    return image_emb, images, labels\n",
        "\n",
        "def load_from_project_drive(link):\n",
        "    \"\"\"Shared file in drive and insert link id\"\"\"\n",
        "    import gdown\n",
        "    output = 'Dataset_loaded.pth'\n",
        "    gdown.download(f\"https://drive.google.com/uc?id={link}\", output, quiet=False)\n",
        "    loaded_data = torch.load(output, map_location=device)\n",
        "    image_emb = loaded_data['image_embedding']\n",
        "    labels = loaded_data['class_text']\n",
        "    images = loaded_data['images'] # good to have to see sclaling and transform..\n",
        "    #dataset = UniformHMDataset(image_emb, labels , images)\n",
        "    return image_emb, images, labels\n",
        "\n",
        "project_drive = False # if you want to load from my drive, NEW SET\n",
        "if project_drive:# DO NOT USE TOO OFTEN OR 24h waiting period\n",
        "  data = load_from_project_drive(link='16we5aQ_Mbk1791_8WT522HmR0lwlwwqQ')\n",
        "else:\n",
        "  data = load_from_private_drive()\n",
        "image_emb0, images0, labels0 = data"
      ]
    },
    {
      "cell_type": "markdown",
      "metadata": {
        "id": "6fClfPP_3FRt"
      },
      "source": [
        "# Evaluate"
      ]
    },
    {
      "cell_type": "markdown",
      "source": [
        "**Pulls latest changes from Github if needed**"
      ],
      "metadata": {
        "id": "TCdXJOH-2Tzm"
      }
    },
    {
      "cell_type": "code",
      "source": [
        "%cd DD2430_Project\n",
        "!git pull https://github.com/Samin765/DD2430_Project.git\n",
        "!mv -v /content/DD2430_Project/* /content/"
      ],
      "metadata": {
        "id": "BEBBv56W1U3r",
        "collapsed": true
      },
      "execution_count": null,
      "outputs": []
    },
    {
      "cell_type": "code",
      "execution_count": 14,
      "metadata": {
        "id": "P7xSMub-eLfb"
      },
      "outputs": [],
      "source": [
        "# functions for clip text and image embeddings, forward pass etc\n",
        "# remember to import this again if you change something\n",
        "# And varius function that doesn't fit into model_functions or datasets\n",
        "# for example displaying images\n",
        "import model_functions, utils, training, datasets\n",
        "importlib.reload(utils) # issues with colab not updating\n",
        "importlib.reload(training)\n",
        "importlib.reload(model_functions)\n",
        "importlib.reload(datasets)\n",
        "import model_functions, utils, training"
      ]
    },
    {
      "cell_type": "markdown",
      "metadata": {
        "id": "xbdlDacqyHnQ"
      },
      "source": [
        "**Split datasets**"
      ]
    },
    {
      "cell_type": "code",
      "execution_count": null,
      "metadata": {
        "id": "xbgEnh1oyA6l",
        "collapsed": true
      },
      "outputs": [],
      "source": [
        "dataset, dataset_train, dataset_test, dataset_val = datasets.split(labels0, image_emb0, images0, N_SAMPLES, SET_SIZES)\n",
        "batch_size = 200\n",
        "dataloader_train = DataLoader(dataset_train, batch_size=batch_size, shuffle=True)\n",
        "dataloader_val = DataLoader(dataset_val, batch_size=batch_size, shuffle=False)\n",
        "dataloader_test = DataLoader(dataset_test, batch_size=batch_size, shuffle=False)"
      ]
    },
    {
      "cell_type": "markdown",
      "source": [
        "**Hyperparam search for LoRA**\n",
        "\n",
        "---\n",
        "\n"
      ],
      "metadata": {
        "id": "VFixAhIiMPT1"
      }
    },
    {
      "cell_type": "code",
      "source": [
        "# Initialize the model and processor\n",
        "import itertools\n",
        "\n",
        "\n",
        "# Hyperparameter space\n",
        "learning_rates = [1e-5, 5e-5, 1e-4]\n",
        "initial_ranks = [0, 0, 0, 0, 0, 0, 0, 0, 0, 0, 256, 256]\n",
        "weight_decays = [0.0, 0.01, 0.1 , 0.0001]\n",
        "\n",
        "results = []\n",
        "\n",
        "for lr, wd in itertools.product(learning_rates, weight_decays):\n",
        "    ranks = initial_ranks.copy()\n",
        "    start = len(ranks) - 3\n",
        "\n",
        "    for i in range(start, len(ranks) - 1):\n",
        "        ranks[i] = 0\n",
        "\n",
        "        if all(rank == 0 for rank in ranks):\n",
        "            print(\"All ranks are set to 0. Exiting the loop.\")\n",
        "            break\n",
        "\n",
        "        model = transformers.CLIPModel.from_pretrained(\"openai/clip-vit-base-patch32\", force_download=True).to(device)\n",
        "        processor = transformers.CLIPProcessor.from_pretrained(\"openai/clip-vit-base-patch32\", force_download=True)\n",
        "        processor.feature_extractor.do_rescale = False  # Ensure image values are between [0-1]\n",
        "\n",
        "        lora_layers = []\n",
        "        lora_layers = model_functions.apply_lora_to_transformer(model.text_model.encoder.layers, lora_layers, ranks)\n",
        "        lora_params_attention = model_functions.get_lora_params(model, print_layer=False)\n",
        "\n",
        "        dataloaders = {'train': dataloader_train, 'val': dataloader_val, 'test': dataloader_test}\n",
        "        clip = {'m': model, 'p': processor}\n",
        "        ft = training.FinetuneCLIP(dataloaders, clip, epochs = 50)\n",
        "\n",
        "        ft.tt['soft'], ft.tt['LoRA'], ft.tt['image_fc'] = 0, 1, 1  # Enable LoRA and Image FC\n",
        "        ft.initialize({'LoRA': lora_params_attention, 'lr': lr, 'weight_decay': wd})\n",
        "        ft.count_parameters()\n",
        "\n",
        "        ft.train()\n",
        "\n",
        "        all_predictions, all_labels, acc = ft.eval(False)\n",
        "        utils.confussion_matrix(all_labels, all_predictions, list(dataset_test.class_to_id.keys()), F1=False)\n",
        "        print(f\"Accuracy for rank configuration {ranks} with lr={lr}, wd={wd} is {acc:.2f} %\")\n",
        "\n",
        "        results.append({'ranks': ranks.copy(), 'accuracy': acc, 'lr': lr, 'wd': wd})\n",
        "\n",
        "for result in results:\n",
        "    print(f\"Rank configuration: {result['ranks']}, Learning Rate: {result['lr']}, Weight Decay: {result['wd']}, Accuracy: {result['accuracy']:.2f} %\")"
      ],
      "metadata": {
        "id": "l7nolhuvI2em",
        "collapsed": true
      },
      "execution_count": null,
      "outputs": []
    },
    {
      "cell_type": "code",
      "execution_count": null,
      "metadata": {
        "id": "fPlMtUR3eOzl",
        "collapsed": true
      },
      "outputs": [],
      "source": [
        "model = transformers.CLIPModel.from_pretrained(\"openai/clip-vit-base-patch32\", force_download = True).to(device)\n",
        "processor = transformers.CLIPProcessor.from_pretrained(\"openai/clip-vit-base-patch32\", force_download = True)\n",
        "processor.feature_extractor.do_rescale = False # make sure image values: False=> [0-1] and True=> [0,255]"
      ]
    },
    {
      "cell_type": "markdown",
      "source": [
        "**LoRA Train with specifc Parameters**\n",
        "\n",
        "---\n",
        "\n"
      ],
      "metadata": {
        "id": "hhx058DyI0Uq"
      }
    },
    {
      "cell_type": "code",
      "source": [
        "ranks = [0, 0, 0, 0, 0, 0, 0, 0,0, 0, 0, 256]  # Only apply LoRA with rank 64 to the last layer\n",
        "lr = 1e-05\n",
        "wd = 0.0001\n",
        "epochs_num = 200\n",
        "lora_layers = []\n",
        "\n",
        "lora_layers = model_functions.apply_lora_to_transformer(model.text_model.encoder.layers , lora_layers, ranks)\n",
        "lora_params_attention = model_functions.get_lora_params(model, print_layer = True);\n",
        "\n",
        "# Set up dataloaders and fine-tune process\n",
        "dataloaders = {'train': dataloader_train, 'val': dataloader_val, 'test': dataloader_test}\n",
        "clip = {'m': model, 'p': processor}\n",
        "ft = training.FinetuneCLIP(dataloaders, clip, epochs = epochs_num )\n",
        "\n",
        "# Initialize LoRA training with current hyperparameters\n",
        "ft.tt['soft'], ft.tt['LoRA'], ft.tt['image_fc'] = 0, 1 , 0  # Enable LoRA\n",
        "ft.initialize({'LoRA': lora_params_attention, 'lr': lr, 'weight_decay': wd})\n",
        "ft.count_parameters()\n",
        "\n",
        "# Set the optimizer parameters for learning rate and weight decay\n",
        "#ft.optimizer_params = {'lr': lr, 'weight_decay': wd}  # Ensure your FinetuneCLIP handles this\n",
        "\n",
        "# Train the model\n",
        "ft.train()\n",
        "\n",
        "# Evaluate the model\n",
        "all_predictions, all_labels, acc = ft.eval(False)\n",
        "#utils.confussion_matrix(all_labels, all_predictions, list(dataset_test.class_to_id.keys()), F1=False)\n",
        "ft.plot_loss()\n",
        "\n",
        "print(f\"Accuracy for rank configuration {ranks} with lr={lr}, scale={scale}, wd={wd} is {acc:.2f} %\")"
      ],
      "metadata": {
        "collapsed": true,
        "id": "HjBT2q7v-_bt"
      },
      "execution_count": null,
      "outputs": []
    },
    {
      "cell_type": "markdown",
      "source": [
        "**Train SoftPrompt with Tuned LoRA/CLIP Model**\n",
        "\n",
        "---\n",
        "\n"
      ],
      "metadata": {
        "id": "B6bEfO65Cv7g"
      }
    },
    {
      "cell_type": "code",
      "source": [
        "dataloaders = {'train':dataloader_train, 'val':dataloader_val, 'test':dataloader_test}\n",
        "clip = {'m':model, 'p':processor}\n",
        "num_soft = 5\n",
        "ft = training.FinetuneCLIP(dataloaders, clip)\n",
        "ft.tt['soft'], ft.tt['LoRA'], ft.tt['image_fc'] = 1, 0 , 1 #soft\n",
        "ft.initialize({'num_soft':num_soft, 'add':''})\n",
        "ft.train()\n",
        "\n",
        "# Evaluate the model\n",
        "all_predictions, all_labels, acc = ft.eval(False)\n",
        "#utils.confussion_matrix(all_labels, all_predictions, list(dataset_test.class_to_id.keys()), F1=False)\n",
        "ft.plot_loss()\n",
        "\n",
        "print(f\"Accuracy  {acc:.2f} %\")\n"
      ],
      "metadata": {
        "collapsed": true,
        "id": "FHDwksn0BW8Z"
      },
      "execution_count": null,
      "outputs": []
    }
  ],
  "metadata": {
    "accelerator": "GPU",
    "colab": {
      "gpuType": "L4",
      "machine_shape": "hm",
      "provenance": [],
      "collapsed_sections": [
        "fJAyjnhi-Azx",
        "3UAgJdAxAOLv",
        "LeD46C1cglRO",
        "T4UGkuMKf1H9",
        "AMkglNVFexW4",
        "8tyWjrmJkEeR"
      ]
    },
    "kernelspec": {
      "display_name": "Python 3",
      "name": "python3"
    },
    "language_info": {
      "codemirror_mode": {
        "name": "ipython",
        "version": 3
      },
      "file_extension": ".py",
      "mimetype": "text/x-python",
      "name": "python",
      "nbconvert_exporter": "python",
      "pygments_lexer": "ipython3",
      "version": "3.12.2"
    }
  },
  "nbformat": 4,
  "nbformat_minor": 0
}